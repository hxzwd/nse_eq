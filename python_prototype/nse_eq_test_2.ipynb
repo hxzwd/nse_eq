{
 "cells": [
  {
   "cell_type": "code",
   "execution_count": 1,
   "metadata": {},
   "outputs": [],
   "source": [
    "\n",
    "import sympy as sp\n",
    "\n",
    "from sympy import Symbol\n",
    "from sympy import symbols\n",
    "from sympy import Function\n",
    "from sympy import diff\n",
    "from sympy import I\n",
    "from sympy import exp\n",
    "from sympy import solve\n",
    "from sympy import Eq\n",
    "from sympy import Poly\n",
    "from sympy import sqrt\n",
    "from sympy import tanh\n",
    "from sympy import coth\n",
    "from sympy import fraction\n",
    "\n",
    "from IPython import embed\n",
    "\n",
    "\n",
    "def print_hello_msg():\n",
    "\tprint(\"[main]: mephim/eq\\n\")\n",
    "\tpass\n",
    "\n"
   ]
  },
  {
   "cell_type": "code",
   "execution_count": 2,
   "metadata": {},
   "outputs": [
    {
     "name": "stdout",
     "output_type": "stream",
     "text": [
      "[main]: mephim/eq\n",
      "\n"
     ]
    }
   ],
   "source": [
    "\n",
    "def f_extract_from_eq_sys(eq_sys, param, eq_num, flag_return_new_eq_sys = True):\n",
    "\tif isinstance(param, str):\n",
    "\t\tparam = eval(param)\n",
    "\tparam_s = solve(eq_sys[eq_num], param)[0]\n",
    "\tif flag_return_new_eq_sys == True:\n",
    "\t\tnew_eq_sys = [ eq.subs({ param : param_s }).doit() for eq in eq_sys ]\n",
    "\t\treturn param_s, new_eq_sys\n",
    "\treturn param_s, eq_sys\n",
    "\n",
    "\n",
    "def f_extract_from_eq_sys_(eq_sys, param_list, eq_num_list):\n",
    "\tif eq_num_list == []:\n",
    "\t\teq_num_list = list(range(0, len(eq_sys)))\n",
    "\tparam_res_d = { }\n",
    "\tnew_eq_sys = eq_sys\n",
    "\tfor index, param in enumerate(param_list):\n",
    "\t\tparam_s_, new_eq_sys = f_extract_from_eq_sys(new_eq_sys, param, eq_num_list[index])\n",
    "\t\tparam_res_d[param] = param_s_\n",
    "\treturn param_res_d\n",
    "\n",
    "\n",
    "\n",
    "print_hello_msg()\n"
   ]
  },
  {
   "cell_type": "code",
   "execution_count": 3,
   "metadata": {},
   "outputs": [],
   "source": [
    "\n",
    "def f_gen_target_eq(n):\n",
    "\tcoeff_list = { }\n",
    "\tq_der_list = [ ]\n",
    "\tq = Function(\"q\", nargs = 2)\n",
    "\ty = Function(\"y\", nargs = 1)\n",
    "\tx = Symbol(\"x\", real = True)\n",
    "\tt = Symbol(\"t\", real = True)\n",
    "\tfor i in range(1, n * 2 + 1):\n",
    "\t\tkey = \"a{}\".format(i)\n",
    "\t\tvalue = eval(\"Symbol(\\\"{}\\\")\".format(key))\n",
    "\t\tcoeff_list[key] = value\n",
    "\tqt = diff(q(x, t), t, 1)\n",
    "\tq_der_list = [ qt ]\n",
    "\tfor i in range(1, n * 2 + 1):\n",
    "\t\tq_der_list.append(diff(q(x, t), x, i))\n",
    "\ttarget_eq = qt * I\n",
    "\tfor index, value in enumerate(q_der_list):\n",
    "\t\tif index == 0:\n",
    "\t\t\tcontinue\n",
    "\t\tkey = \"a{}\".format(index)\n",
    "\t\ttarget_eq += coeff_list[key] * value * ( I if (index % 2 == 1) else 1 )\n",
    "\treturn { \"target_eq\" : target_eq, \"params\" : coeff_list, \"q\" : q, \"y\" : y, \"x\" : x, \"t\" : t, \"q_der_list\" : q_der_list, \"n\" : n }\n"
   ]
  },
  {
   "cell_type": "code",
   "execution_count": 4,
   "metadata": {},
   "outputs": [],
   "source": [
    "\n",
    "def f_subs_trav_wave(target_eq = None, params = { }, q = None, y = None, x = None, t = None, q_der_list = [ ], n = None):\n",
    "\tC0 = Symbol(\"C0\")\n",
    "\tk = Symbol(\"k\")\n",
    "\tomega = Symbol(\"omega\")\n",
    "\tb = Symbol(\"b\")\n",
    "\tz = Symbol(\"z\")\n",
    "\ttmpp = [ \"C0\", \"k\", \"omega\", \"b\", \"z\" ]\n",
    "\tres_d = dict(zip(tmpp, map(eval, tmpp)))\n",
    "\tsubs_fun = y(x - C0 * t) * exp( I * ( k * x - omega * t ) )\n",
    "\tres_d[\"subs_fun\"] = subs_fun\n",
    "\ttmp1 = target_eq.subs({ q(x, t) : subs_fun }).doit().simplify().doit().expand().subs({ x - C0 * t : x }).doit()\n",
    "\tres_d[\"tmp1\"] = tmp1\n",
    "\ttmp2 = tmp1.subs({ exp(I*k*x) : 1, exp(-I*omega*t) : 1}).doit()\n",
    "\ttmp2 = tmp2 - b * y(x)**3\n",
    "\ttmp2 = tmp2.subs({ x : z }).doit()\n",
    "\tres_d[\"tmp2\"] = tmp2\n",
    "\tre_eq = tmp2.subs({ I : 0 }).doit()\n",
    "\tim_eq = tmp2.coeff(I)\n",
    "\tres_d[\"re_eq\"] = re_eq\n",
    "\tres_d[\"im_eq\"] = im_eq\n",
    "\tqq_re = [ i for i in re_eq.as_terms()[-1] if not i.is_Atom ]\n",
    "\tqq_im = [ i for i in im_eq.as_terms()[-1] if not i.is_Atom ]\n",
    "\tres_d[\"qq_re\"] = qq_re\n",
    "\tres_d[\"qq_im\"] = qq_im\n",
    "\tim_eq_coeff = [ im_eq.coeff(i) for i in qq_im ]\n",
    "\tim_eq_sys = [ Eq(i) for i in im_eq_coeff ]\n",
    "\tres_d[\"im_eq_coeff\"] = im_eq_coeff\n",
    "\tres_d[\"im_eq_sys\"] = im_eq_sys\n",
    "\ttt = [ [j for j in i.as_expr().as_ordered_terms()[0].atoms() if j.is_symbol ][0] for i in im_eq_coeff ]\n",
    "\ttt = list(reversed(tt))\n",
    "\teq_num_list = list(reversed(range(0, len(im_eq_sys))))\n",
    "\tsubs_im_d = f_extract_from_eq_sys_(im_eq_sys, tt, eq_num_list)\n",
    "\tres_d[\"tt\"] = tt\n",
    "\tres_d[\"subs_im_d\"] = subs_im_d\n",
    "\tres_d[\"n\"] = n\n",
    "\treturn res_d\n"
   ]
  },
  {
   "cell_type": "code",
   "execution_count": 5,
   "metadata": {},
   "outputs": [],
   "source": [
    "\n",
    "def f_generate_y_subs(n, a, limit = 4):\n",
    "\tN = Symbol(\"N\")\n",
    "\tA = Symbol(\"A\")\n",
    "\tXi = Symbol(\"Xi\")\n",
    "\ta = Symbol(\"a\")\n",
    "\talpha = Symbol(\"alpha\")\n",
    "\tC = Symbol(\"C\")\n",
    "\tR = Function(\"R\", nargs = 1)\n",
    "\tsubs_ = { }\n",
    "\tres_subs_ = { }\n",
    "\tsubs_[diff(R(z), z, 1)**2] =  R(z)**2 * (1 - Xi * R(z)**2)\n",
    "\tsubs_[diff(R(z),z, 2)] = R(z) - 2 * Xi * R(z)**3\n",
    "\ty_subs = a * R(z)**n\n",
    "\ty_subs = A * R(z)**n\n",
    "\ttmp_list = [ y_subs ]\n",
    "\ttmp_keys_list = [ y(z) ]\n",
    "\tfor i in range(0, limit):\n",
    "\t\ttmp_ = tmp_list[i]\n",
    "\t\ttmp_ = diff(tmp_, z, 1)\n",
    "\t\ttmp_list.append(tmp_.subs(subs_).simplify().doit())\n",
    "\t\ttmp_key = tmp_keys_list[i]\n",
    "\t\ttmp_keys_list.append(diff(tmp_key, z, 1))\n",
    "\ttmp_keys_list = reversed(tmp_keys_list)\n",
    "\ttmp_list = reversed(tmp_list)\n",
    "\treturn dict(zip(tmp_keys_list, tmp_list))\n"
   ]
  },
  {
   "cell_type": "code",
   "execution_count": 6,
   "metadata": {},
   "outputs": [],
   "source": [
    "\n",
    "q = Function(\"q\", nargs = 2)\n",
    "y = Function(\"y\", nargs = 1)\n",
    "x = Symbol(\"x\", real = True)\n",
    "t = Symbol(\"t\", real = True)\n",
    "\n",
    "\n",
    "a1, a2, a3, a4 = symbols(\"a1 a2 a3 a4\")\n",
    "\n",
    "qt = diff(q(x, t), t, 1)\n",
    "qx = diff(q(x, t), x, 1)\n",
    "qxx = diff(q(x, t), x, 2)\n",
    "qxxx = diff(q(x, t), x, 3)\n",
    "qxxxx = diff(q(x, t), x, 4)\n",
    "\n",
    "\n",
    "\n",
    "C0 = Symbol(\"C0\")\n",
    "k = Symbol(\"k\")\n",
    "omega = Symbol(\"omega\")\n",
    "b = Symbol(\"b\")\n",
    "z = Symbol(\"z\")\n",
    "\n",
    "N = Symbol(\"N\")\n",
    "A = Symbol(\"A\")\n",
    "Xi = Symbol(\"Xi\")\n",
    "a = Symbol(\"a\")\n",
    "alpha = Symbol(\"alpha\")\n",
    "C = Symbol(\"C\")\n",
    "R = Function(\"R\", nargs = 1)\n",
    "\n",
    "subs_fun = y(x - C0 * t) * exp( I * ( k * x - omega * t ) )\n",
    "\n",
    "R_subs_ = 2 * exp(z) * C / ( C + Xi * exp(2 * z) )\n",
    "R_subs_ = R_subs_.subs({ C : 1 })\n"
   ]
  },
  {
   "cell_type": "code",
   "execution_count": 7,
   "metadata": {},
   "outputs": [],
   "source": [
    "\n",
    "def f_subs_R(re_eq = None, subs_im_d = { }, qq_re = [ ], n = None, **kwargs):\n",
    "\tres_d = { }\n",
    "\tnn = qq_re[-1].derivative_count\n",
    "\tsubs_d = f_generate_y_subs(n, A, limit = nn)\n",
    "\tsubs_d_re = dict([ [i, v] for i, v in subs_d.items() if i in qq_re ])\n",
    "\tsubs_d_next = { diff(R(z), z, 1)**2 : R(z)**2 * (1 - Xi * R(z)**2) }\n",
    "\tw0 = re_eq\n",
    "\tw0 = re_eq.subs(subs_im_d).doit()\n",
    "\tfor i, v in subs_d_re.items():\n",
    "\t\tw0 = w0.subs({ i : v }).expand().simplify().doit()\n",
    "\tw1 = w0.subs(subs_d_next).doit()\n",
    "\tw2 = w1.expand().simplify().doit()\n",
    "\n",
    "\th0 = Poly(w2, R(z))\n",
    "\n",
    "\tr_coeffs = h0.coeffs()\n",
    "\tr_eqs = [ Eq(i) for i in r_coeffs ]\n",
    "\tres_d = { \"nn\" : nn, \"subs_d\" : subs_d, \"subs_d_re\" : subs_d_re,\n",
    "\t\t\"subs_d_next\" : subs_d_next, \"w0\" : w0, \"w1\" : w1, \"w2\" : w2,\n",
    "\t\t\"h0\" : h0, \"r_coeffs\" : r_coeffs, \"r_eqs\" : r_eqs }\n",
    "\treturn res_d\n"
   ]
  },
  {
   "cell_type": "code",
   "execution_count": 21,
   "metadata": {},
   "outputs": [],
   "source": [
    "\n",
    "\n",
    "def f_line_up_one_param(eq, not_include = [ ]):\n",
    "\t\tf_symb = eq.lhs.free_symbols\n",
    "\t\ta_symb = [ i for i in f_symb if \"a\" == i.name[0] and i not in not_include ]\n",
    "\t\tpass\n",
    "\t\td_ = dict([ [ i, sp.degree(eq, i) ] for i in a_symb ])\n",
    "\t\tline_up_param = min(d_, key = lambda x : d_[x])\n",
    "\t\td_min_ = [ ]\n",
    "\t\tfor key in d_.keys():\n",
    "\t\t\t\tif d_[key] == d_[line_up_param]:\n",
    "\t\t\t\t\t\td_min_.append(key)\n",
    "\t\tline_up_param = min(d_min_, key = lambda x : int(x.name[1:]))\n",
    "\t\treturn { \"f_symb\" : f_symb, \"a_symb\" : a_symb, \"d_\" : d_, \"d_min_\" : d_min_, \"line_up_param\" : line_up_param }\n",
    "\n",
    "def f_line_up_params(eqs):\n",
    "\t\tpass\n",
    "\t\tline_up_params_list = [ ]\n",
    "\t\tnew_eqs = eqs[ 1 : -1 ]\n",
    "\t\tfor eq in new_eqs:\n",
    "\t\t\t\ttmp_ = f_line_up_one_param(eq, not_include = line_up_params_list)\n",
    "\t\t\t\tline_up_params_list.append(tmp_[\"line_up_param\"])\n",
    "\t\treturn [ Symbol(\"b\") ] + line_up_params_list + [ Symbol(\"omega\") ]\n"
   ]
  },
  {
   "cell_type": "code",
   "execution_count": null,
   "metadata": {},
   "outputs": [],
   "source": []
  },
  {
   "cell_type": "code",
   "execution_count": 22,
   "metadata": {},
   "outputs": [],
   "source": [
    "\n",
    "target_eq = I * qt - I * a1 * qx + a2 * qxx - I * a3 * qxxx + a4 * qxxxx\n",
    "target_eq = I * qt + I * a1 * qx + a2 * qxx + I * a3 * qxxx + a4 * qxxxx\n"
   ]
  },
  {
   "cell_type": "code",
   "execution_count": 23,
   "metadata": {},
   "outputs": [],
   "source": [
    "tmp1 = target_eq.subs({ q(x, t) : subs_fun }).doit().simplify().doit().expand().subs({ x - C0 * t : x }).doit()"
   ]
  },
  {
   "cell_type": "code",
   "execution_count": 24,
   "metadata": {},
   "outputs": [
    {
     "data": {
      "text/plain": [
       "-I*C0*exp(I*k*x)*exp(-I*omega*t)*Derivative(y(x), x) - a1*k*exp(I*k*x)*exp(-I*omega*t)*y(x) + I*a1*exp(I*k*x)*exp(-I*omega*t)*Derivative(y(x), x) - a2*k**2*exp(I*k*x)*exp(-I*omega*t)*y(x) + 2*I*a2*k*exp(I*k*x)*exp(-I*omega*t)*Derivative(y(x), x) + a2*exp(I*k*x)*exp(-I*omega*t)*Derivative(y(x), (x, 2)) + a3*k**3*exp(I*k*x)*exp(-I*omega*t)*y(x) - 3*I*a3*k**2*exp(I*k*x)*exp(-I*omega*t)*Derivative(y(x), x) - 3*a3*k*exp(I*k*x)*exp(-I*omega*t)*Derivative(y(x), (x, 2)) + I*a3*exp(I*k*x)*exp(-I*omega*t)*Derivative(y(x), (x, 3)) + a4*k**4*exp(I*k*x)*exp(-I*omega*t)*y(x) - 4*I*a4*k**3*exp(I*k*x)*exp(-I*omega*t)*Derivative(y(x), x) - 6*a4*k**2*exp(I*k*x)*exp(-I*omega*t)*Derivative(y(x), (x, 2)) + 4*I*a4*k*exp(I*k*x)*exp(-I*omega*t)*Derivative(y(x), (x, 3)) + a4*exp(I*k*x)*exp(-I*omega*t)*Derivative(y(x), (x, 4)) + omega*exp(I*k*x)*exp(-I*omega*t)*y(x)"
      ]
     },
     "execution_count": 24,
     "metadata": {},
     "output_type": "execute_result"
    }
   ],
   "source": [
    "tmp1"
   ]
  },
  {
   "cell_type": "code",
   "execution_count": 25,
   "metadata": {},
   "outputs": [],
   "source": [
    "res_ = f_gen_target_eq(2)"
   ]
  },
  {
   "cell_type": "code",
   "execution_count": 26,
   "metadata": {},
   "outputs": [
    {
     "data": {
      "text/plain": [
       "{'target_eq': I*a1*Derivative(q(x, t), x) + a2*Derivative(q(x, t), (x, 2)) + I*a3*Derivative(q(x, t), (x, 3)) + a4*Derivative(q(x, t), (x, 4)) + I*Derivative(q(x, t), t),\n",
       " 'params': {'a1': a1, 'a2': a2, 'a3': a3, 'a4': a4},\n",
       " 'q': q,\n",
       " 'y': y,\n",
       " 'x': x,\n",
       " 't': t,\n",
       " 'q_der_list': [Derivative(q(x, t), t),\n",
       "  Derivative(q(x, t), x),\n",
       "  Derivative(q(x, t), (x, 2)),\n",
       "  Derivative(q(x, t), (x, 3)),\n",
       "  Derivative(q(x, t), (x, 4))],\n",
       " 'n': 2}"
      ]
     },
     "execution_count": 26,
     "metadata": {},
     "output_type": "execute_result"
    }
   ],
   "source": [
    "res_"
   ]
  },
  {
   "cell_type": "code",
   "execution_count": 27,
   "metadata": {},
   "outputs": [
    {
     "data": {
      "text/plain": [
       "{'C0': C0,\n",
       " 'k': k,\n",
       " 'omega': omega,\n",
       " 'b': b,\n",
       " 'z': z,\n",
       " 'subs_fun': exp(I*(k*x - omega*t))*y(-C0*t + x),\n",
       " 'tmp1': -I*C0*exp(I*k*x)*exp(-I*omega*t)*Derivative(y(x), x) - a1*k*exp(I*k*x)*exp(-I*omega*t)*y(x) + I*a1*exp(I*k*x)*exp(-I*omega*t)*Derivative(y(x), x) - a2*k**2*exp(I*k*x)*exp(-I*omega*t)*y(x) + 2*I*a2*k*exp(I*k*x)*exp(-I*omega*t)*Derivative(y(x), x) + a2*exp(I*k*x)*exp(-I*omega*t)*Derivative(y(x), (x, 2)) + a3*k**3*exp(I*k*x)*exp(-I*omega*t)*y(x) - 3*I*a3*k**2*exp(I*k*x)*exp(-I*omega*t)*Derivative(y(x), x) - 3*a3*k*exp(I*k*x)*exp(-I*omega*t)*Derivative(y(x), (x, 2)) + I*a3*exp(I*k*x)*exp(-I*omega*t)*Derivative(y(x), (x, 3)) + a4*k**4*exp(I*k*x)*exp(-I*omega*t)*y(x) - 4*I*a4*k**3*exp(I*k*x)*exp(-I*omega*t)*Derivative(y(x), x) - 6*a4*k**2*exp(I*k*x)*exp(-I*omega*t)*Derivative(y(x), (x, 2)) + 4*I*a4*k*exp(I*k*x)*exp(-I*omega*t)*Derivative(y(x), (x, 3)) + a4*exp(I*k*x)*exp(-I*omega*t)*Derivative(y(x), (x, 4)) + omega*exp(I*k*x)*exp(-I*omega*t)*y(x),\n",
       " 'tmp2': -I*C0*Derivative(y(z), z) - a1*k*y(z) + I*a1*Derivative(y(z), z) - a2*k**2*y(z) + 2*I*a2*k*Derivative(y(z), z) + a2*Derivative(y(z), (z, 2)) + a3*k**3*y(z) - 3*I*a3*k**2*Derivative(y(z), z) - 3*a3*k*Derivative(y(z), (z, 2)) + I*a3*Derivative(y(z), (z, 3)) + a4*k**4*y(z) - 4*I*a4*k**3*Derivative(y(z), z) - 6*a4*k**2*Derivative(y(z), (z, 2)) + 4*I*a4*k*Derivative(y(z), (z, 3)) + a4*Derivative(y(z), (z, 4)) - b*y(z)**3 + omega*y(z),\n",
       " 're_eq': -a1*k*y(z) - a2*k**2*y(z) + a2*Derivative(y(z), (z, 2)) + a3*k**3*y(z) - 3*a3*k*Derivative(y(z), (z, 2)) + a4*k**4*y(z) - 6*a4*k**2*Derivative(y(z), (z, 2)) + a4*Derivative(y(z), (z, 4)) - b*y(z)**3 + omega*y(z),\n",
       " 'im_eq': -C0*Derivative(y(z), z) + a1*Derivative(y(z), z) + 2*a2*k*Derivative(y(z), z) - 3*a3*k**2*Derivative(y(z), z) + a3*Derivative(y(z), (z, 3)) - 4*a4*k**3*Derivative(y(z), z) + 4*a4*k*Derivative(y(z), (z, 3)),\n",
       " 'qq_re': [y(z), Derivative(y(z), (z, 2)), Derivative(y(z), (z, 4))],\n",
       " 'qq_im': [Derivative(y(z), z), Derivative(y(z), (z, 3))],\n",
       " 'im_eq_coeff': [-C0 + a1 + 2*a2*k - 3*a3*k**2 - 4*a4*k**3, a3 + 4*a4*k],\n",
       " 'im_eq_sys': [Eq(-C0 + a1 + 2*a2*k - 3*a3*k**2 - 4*a4*k**3, 0),\n",
       "  Eq(a3 + 4*a4*k, 0)],\n",
       " 'tt': [a3, C0],\n",
       " 'subs_im_d': {a3: -4*a4*k, C0: a1 + 2*a2*k + 8*a4*k**3},\n",
       " 'n': 2}"
      ]
     },
     "execution_count": 27,
     "metadata": {},
     "output_type": "execute_result"
    }
   ],
   "source": [
    "f_subs_trav_wave(**res_)"
   ]
  },
  {
   "cell_type": "code",
   "execution_count": 28,
   "metadata": {},
   "outputs": [],
   "source": [
    "res_ = f_gen_target_eq(4)"
   ]
  },
  {
   "cell_type": "code",
   "execution_count": 29,
   "metadata": {},
   "outputs": [
    {
     "data": {
      "text/plain": [
       "{'target_eq': I*a1*Derivative(q(x, t), x) + a2*Derivative(q(x, t), (x, 2)) + I*a3*Derivative(q(x, t), (x, 3)) + a4*Derivative(q(x, t), (x, 4)) + I*a5*Derivative(q(x, t), (x, 5)) + a6*Derivative(q(x, t), (x, 6)) + I*a7*Derivative(q(x, t), (x, 7)) + a8*Derivative(q(x, t), (x, 8)) + I*Derivative(q(x, t), t),\n",
       " 'params': {'a1': a1,\n",
       "  'a2': a2,\n",
       "  'a3': a3,\n",
       "  'a4': a4,\n",
       "  'a5': a5,\n",
       "  'a6': a6,\n",
       "  'a7': a7,\n",
       "  'a8': a8},\n",
       " 'q': q,\n",
       " 'y': y,\n",
       " 'x': x,\n",
       " 't': t,\n",
       " 'q_der_list': [Derivative(q(x, t), t),\n",
       "  Derivative(q(x, t), x),\n",
       "  Derivative(q(x, t), (x, 2)),\n",
       "  Derivative(q(x, t), (x, 3)),\n",
       "  Derivative(q(x, t), (x, 4)),\n",
       "  Derivative(q(x, t), (x, 5)),\n",
       "  Derivative(q(x, t), (x, 6)),\n",
       "  Derivative(q(x, t), (x, 7)),\n",
       "  Derivative(q(x, t), (x, 8))],\n",
       " 'n': 4}"
      ]
     },
     "execution_count": 29,
     "metadata": {},
     "output_type": "execute_result"
    }
   ],
   "source": [
    "res_"
   ]
  },
  {
   "cell_type": "code",
   "execution_count": 30,
   "metadata": {},
   "outputs": [
    {
     "data": {
      "text/plain": [
       "{'C0': C0,\n",
       " 'k': k,\n",
       " 'omega': omega,\n",
       " 'b': b,\n",
       " 'z': z,\n",
       " 'subs_fun': exp(I*(k*x - omega*t))*y(-C0*t + x),\n",
       " 'tmp1': -I*C0*exp(I*k*x)*exp(-I*omega*t)*Derivative(y(x), x) - a1*k*exp(I*k*x)*exp(-I*omega*t)*y(x) + I*a1*exp(I*k*x)*exp(-I*omega*t)*Derivative(y(x), x) - a2*k**2*exp(I*k*x)*exp(-I*omega*t)*y(x) + 2*I*a2*k*exp(I*k*x)*exp(-I*omega*t)*Derivative(y(x), x) + a2*exp(I*k*x)*exp(-I*omega*t)*Derivative(y(x), (x, 2)) + a3*k**3*exp(I*k*x)*exp(-I*omega*t)*y(x) - 3*I*a3*k**2*exp(I*k*x)*exp(-I*omega*t)*Derivative(y(x), x) - 3*a3*k*exp(I*k*x)*exp(-I*omega*t)*Derivative(y(x), (x, 2)) + I*a3*exp(I*k*x)*exp(-I*omega*t)*Derivative(y(x), (x, 3)) + a4*k**4*exp(I*k*x)*exp(-I*omega*t)*y(x) - 4*I*a4*k**3*exp(I*k*x)*exp(-I*omega*t)*Derivative(y(x), x) - 6*a4*k**2*exp(I*k*x)*exp(-I*omega*t)*Derivative(y(x), (x, 2)) + 4*I*a4*k*exp(I*k*x)*exp(-I*omega*t)*Derivative(y(x), (x, 3)) + a4*exp(I*k*x)*exp(-I*omega*t)*Derivative(y(x), (x, 4)) - a5*k**5*exp(I*k*x)*exp(-I*omega*t)*y(x) + 5*I*a5*k**4*exp(I*k*x)*exp(-I*omega*t)*Derivative(y(x), x) + 10*a5*k**3*exp(I*k*x)*exp(-I*omega*t)*Derivative(y(x), (x, 2)) - 10*I*a5*k**2*exp(I*k*x)*exp(-I*omega*t)*Derivative(y(x), (x, 3)) - 5*a5*k*exp(I*k*x)*exp(-I*omega*t)*Derivative(y(x), (x, 4)) + I*a5*exp(I*k*x)*exp(-I*omega*t)*Derivative(y(x), (x, 5)) - a6*k**6*exp(I*k*x)*exp(-I*omega*t)*y(x) + 6*I*a6*k**5*exp(I*k*x)*exp(-I*omega*t)*Derivative(y(x), x) + 15*a6*k**4*exp(I*k*x)*exp(-I*omega*t)*Derivative(y(x), (x, 2)) - 20*I*a6*k**3*exp(I*k*x)*exp(-I*omega*t)*Derivative(y(x), (x, 3)) - 15*a6*k**2*exp(I*k*x)*exp(-I*omega*t)*Derivative(y(x), (x, 4)) + 6*I*a6*k*exp(I*k*x)*exp(-I*omega*t)*Derivative(y(x), (x, 5)) + a6*exp(I*k*x)*exp(-I*omega*t)*Derivative(y(x), (x, 6)) + a7*k**7*exp(I*k*x)*exp(-I*omega*t)*y(x) - 7*I*a7*k**6*exp(I*k*x)*exp(-I*omega*t)*Derivative(y(x), x) - 21*a7*k**5*exp(I*k*x)*exp(-I*omega*t)*Derivative(y(x), (x, 2)) + 35*I*a7*k**4*exp(I*k*x)*exp(-I*omega*t)*Derivative(y(x), (x, 3)) + 35*a7*k**3*exp(I*k*x)*exp(-I*omega*t)*Derivative(y(x), (x, 4)) - 21*I*a7*k**2*exp(I*k*x)*exp(-I*omega*t)*Derivative(y(x), (x, 5)) - 7*a7*k*exp(I*k*x)*exp(-I*omega*t)*Derivative(y(x), (x, 6)) + I*a7*exp(I*k*x)*exp(-I*omega*t)*Derivative(y(x), (x, 7)) + a8*k**8*exp(I*k*x)*exp(-I*omega*t)*y(x) - 8*I*a8*k**7*exp(I*k*x)*exp(-I*omega*t)*Derivative(y(x), x) - 28*a8*k**6*exp(I*k*x)*exp(-I*omega*t)*Derivative(y(x), (x, 2)) + 56*I*a8*k**5*exp(I*k*x)*exp(-I*omega*t)*Derivative(y(x), (x, 3)) + 70*a8*k**4*exp(I*k*x)*exp(-I*omega*t)*Derivative(y(x), (x, 4)) - 56*I*a8*k**3*exp(I*k*x)*exp(-I*omega*t)*Derivative(y(x), (x, 5)) - 28*a8*k**2*exp(I*k*x)*exp(-I*omega*t)*Derivative(y(x), (x, 6)) + 8*I*a8*k*exp(I*k*x)*exp(-I*omega*t)*Derivative(y(x), (x, 7)) + a8*exp(I*k*x)*exp(-I*omega*t)*Derivative(y(x), (x, 8)) + omega*exp(I*k*x)*exp(-I*omega*t)*y(x),\n",
       " 'tmp2': -I*C0*Derivative(y(z), z) - a1*k*y(z) + I*a1*Derivative(y(z), z) - a2*k**2*y(z) + 2*I*a2*k*Derivative(y(z), z) + a2*Derivative(y(z), (z, 2)) + a3*k**3*y(z) - 3*I*a3*k**2*Derivative(y(z), z) - 3*a3*k*Derivative(y(z), (z, 2)) + I*a3*Derivative(y(z), (z, 3)) + a4*k**4*y(z) - 4*I*a4*k**3*Derivative(y(z), z) - 6*a4*k**2*Derivative(y(z), (z, 2)) + 4*I*a4*k*Derivative(y(z), (z, 3)) + a4*Derivative(y(z), (z, 4)) - a5*k**5*y(z) + 5*I*a5*k**4*Derivative(y(z), z) + 10*a5*k**3*Derivative(y(z), (z, 2)) - 10*I*a5*k**2*Derivative(y(z), (z, 3)) - 5*a5*k*Derivative(y(z), (z, 4)) + I*a5*Derivative(y(z), (z, 5)) - a6*k**6*y(z) + 6*I*a6*k**5*Derivative(y(z), z) + 15*a6*k**4*Derivative(y(z), (z, 2)) - 20*I*a6*k**3*Derivative(y(z), (z, 3)) - 15*a6*k**2*Derivative(y(z), (z, 4)) + 6*I*a6*k*Derivative(y(z), (z, 5)) + a6*Derivative(y(z), (z, 6)) + a7*k**7*y(z) - 7*I*a7*k**6*Derivative(y(z), z) - 21*a7*k**5*Derivative(y(z), (z, 2)) + 35*I*a7*k**4*Derivative(y(z), (z, 3)) + 35*a7*k**3*Derivative(y(z), (z, 4)) - 21*I*a7*k**2*Derivative(y(z), (z, 5)) - 7*a7*k*Derivative(y(z), (z, 6)) + I*a7*Derivative(y(z), (z, 7)) + a8*k**8*y(z) - 8*I*a8*k**7*Derivative(y(z), z) - 28*a8*k**6*Derivative(y(z), (z, 2)) + 56*I*a8*k**5*Derivative(y(z), (z, 3)) + 70*a8*k**4*Derivative(y(z), (z, 4)) - 56*I*a8*k**3*Derivative(y(z), (z, 5)) - 28*a8*k**2*Derivative(y(z), (z, 6)) + 8*I*a8*k*Derivative(y(z), (z, 7)) + a8*Derivative(y(z), (z, 8)) - b*y(z)**3 + omega*y(z),\n",
       " 're_eq': -a1*k*y(z) - a2*k**2*y(z) + a2*Derivative(y(z), (z, 2)) + a3*k**3*y(z) - 3*a3*k*Derivative(y(z), (z, 2)) + a4*k**4*y(z) - 6*a4*k**2*Derivative(y(z), (z, 2)) + a4*Derivative(y(z), (z, 4)) - a5*k**5*y(z) + 10*a5*k**3*Derivative(y(z), (z, 2)) - 5*a5*k*Derivative(y(z), (z, 4)) - a6*k**6*y(z) + 15*a6*k**4*Derivative(y(z), (z, 2)) - 15*a6*k**2*Derivative(y(z), (z, 4)) + a6*Derivative(y(z), (z, 6)) + a7*k**7*y(z) - 21*a7*k**5*Derivative(y(z), (z, 2)) + 35*a7*k**3*Derivative(y(z), (z, 4)) - 7*a7*k*Derivative(y(z), (z, 6)) + a8*k**8*y(z) - 28*a8*k**6*Derivative(y(z), (z, 2)) + 70*a8*k**4*Derivative(y(z), (z, 4)) - 28*a8*k**2*Derivative(y(z), (z, 6)) + a8*Derivative(y(z), (z, 8)) - b*y(z)**3 + omega*y(z),\n",
       " 'im_eq': -C0*Derivative(y(z), z) + a1*Derivative(y(z), z) + 2*a2*k*Derivative(y(z), z) - 3*a3*k**2*Derivative(y(z), z) + a3*Derivative(y(z), (z, 3)) - 4*a4*k**3*Derivative(y(z), z) + 4*a4*k*Derivative(y(z), (z, 3)) + 5*a5*k**4*Derivative(y(z), z) - 10*a5*k**2*Derivative(y(z), (z, 3)) + a5*Derivative(y(z), (z, 5)) + 6*a6*k**5*Derivative(y(z), z) - 20*a6*k**3*Derivative(y(z), (z, 3)) + 6*a6*k*Derivative(y(z), (z, 5)) - 7*a7*k**6*Derivative(y(z), z) + 35*a7*k**4*Derivative(y(z), (z, 3)) - 21*a7*k**2*Derivative(y(z), (z, 5)) + a7*Derivative(y(z), (z, 7)) - 8*a8*k**7*Derivative(y(z), z) + 56*a8*k**5*Derivative(y(z), (z, 3)) - 56*a8*k**3*Derivative(y(z), (z, 5)) + 8*a8*k*Derivative(y(z), (z, 7)),\n",
       " 'qq_re': [y(z),\n",
       "  Derivative(y(z), (z, 2)),\n",
       "  Derivative(y(z), (z, 4)),\n",
       "  Derivative(y(z), (z, 6)),\n",
       "  Derivative(y(z), (z, 8))],\n",
       " 'qq_im': [Derivative(y(z), z),\n",
       "  Derivative(y(z), (z, 3)),\n",
       "  Derivative(y(z), (z, 5)),\n",
       "  Derivative(y(z), (z, 7))],\n",
       " 'im_eq_coeff': [-C0 + a1 + 2*a2*k - 3*a3*k**2 - 4*a4*k**3 + 5*a5*k**4 + 6*a6*k**5 - 7*a7*k**6 - 8*a8*k**7,\n",
       "  a3 + 4*a4*k - 10*a5*k**2 - 20*a6*k**3 + 35*a7*k**4 + 56*a8*k**5,\n",
       "  a5 + 6*a6*k - 21*a7*k**2 - 56*a8*k**3,\n",
       "  a7 + 8*a8*k],\n",
       " 'im_eq_sys': [Eq(-C0 + a1 + 2*a2*k - 3*a3*k**2 - 4*a4*k**3 + 5*a5*k**4 + 6*a6*k**5 - 7*a7*k**6 - 8*a8*k**7, 0),\n",
       "  Eq(a3 + 4*a4*k - 10*a5*k**2 - 20*a6*k**3 + 35*a7*k**4 + 56*a8*k**5, 0),\n",
       "  Eq(a5 + 6*a6*k - 21*a7*k**2 - 56*a8*k**3, 0),\n",
       "  Eq(a7 + 8*a8*k, 0)],\n",
       " 'tt': [a7, a5, a3, C0],\n",
       " 'subs_im_d': {a7: -8*a8*k,\n",
       "  a5: -6*a6*k - 112*a8*k**3,\n",
       "  a3: -4*k*(a4 + 10*a6*k**2 + 224*a8*k**4),\n",
       "  C0: a1 + 2*a2*k + 8*a4*k**3 + 96*a6*k**5 + 2176*a8*k**7},\n",
       " 'n': 4}"
      ]
     },
     "execution_count": 30,
     "metadata": {},
     "output_type": "execute_result"
    }
   ],
   "source": [
    "tt = f_subs_trav_wave(**res_)\n",
    "tt"
   ]
  },
  {
   "cell_type": "code",
   "execution_count": 31,
   "metadata": {},
   "outputs": [
    {
     "data": {
      "text/plain": [
       "{'nn': 8,\n",
       " 'subs_d': {Derivative(y(z), (z, 8)): 128*A*(23625*Xi**4*R(z)**8 - 49350*Xi**3*R(z)**6 - 27510*Xi**3*R(z)**4*Derivative(R(z), z)**2 + 34335*Xi**2*R(z)**4 + 23520*Xi**2*R(z)**2*Derivative(R(z), z)**2 + 840*Xi**2*Derivative(R(z), z)**4 - 8620*Xi*R(z)**2 - 3990*Xi*Derivative(R(z), z)**2 + 512)*R(z)**4,\n",
       "  Derivative(y(z), (z, 7)): 128*A*(-4305*Xi**3*R(z)**6 + 5670*Xi**2*R(z)**4 + 420*Xi**2*R(z)**2*Derivative(R(z), z)**2 - 1995*Xi*R(z)**2 + 128)*R(z)**3*Derivative(R(z), z),\n",
       "  Derivative(y(z), (z, 6)): 32*A*(-1050*Xi**3*R(z)**6 + 1815*Xi**2*R(z)**4 + 840*Xi**2*R(z)**2*Derivative(R(z), z)**2 - 940*Xi*R(z)**2 - 390*Xi*Derivative(R(z), z)**2 + 128)*R(z)**4,\n",
       "  Derivative(y(z), (z, 5)): 32*A*(210*Xi**2*R(z)**4 - 195*Xi*R(z)**2 + 32)*R(z)**3*Derivative(R(z), z),\n",
       "  Derivative(y(z), (z, 4)): 8*A*(105*Xi**2*R(z)**4 - 130*Xi*R(z)**2 + 32)*R(z)**4,\n",
       "  Derivative(y(z), (z, 3)): 8*A*(-15*Xi*R(z)**2 + 8)*R(z)**3*Derivative(R(z), z),\n",
       "  Derivative(y(z), (z, 2)): 4*A*(-5*Xi*R(z)**2 + 4)*R(z)**4,\n",
       "  Derivative(y(z), z): 4*A*R(z)**3*Derivative(R(z), z),\n",
       "  y(z): A*R(z)**4},\n",
       " 'subs_d_re': {Derivative(y(z), (z, 8)): 128*A*(23625*Xi**4*R(z)**8 - 49350*Xi**3*R(z)**6 - 27510*Xi**3*R(z)**4*Derivative(R(z), z)**2 + 34335*Xi**2*R(z)**4 + 23520*Xi**2*R(z)**2*Derivative(R(z), z)**2 + 840*Xi**2*Derivative(R(z), z)**4 - 8620*Xi*R(z)**2 - 3990*Xi*Derivative(R(z), z)**2 + 512)*R(z)**4,\n",
       "  Derivative(y(z), (z, 6)): 32*A*(-1050*Xi**3*R(z)**6 + 1815*Xi**2*R(z)**4 + 840*Xi**2*R(z)**2*Derivative(R(z), z)**2 - 940*Xi*R(z)**2 - 390*Xi*Derivative(R(z), z)**2 + 128)*R(z)**4,\n",
       "  Derivative(y(z), (z, 4)): 8*A*(105*Xi**2*R(z)**4 - 130*Xi*R(z)**2 + 32)*R(z)**4,\n",
       "  Derivative(y(z), (z, 2)): 4*A*(-5*Xi*R(z)**2 + 4)*R(z)**4,\n",
       "  y(z): A*R(z)**4},\n",
       " 'subs_d_next': {Derivative(R(z), z)**2: (-Xi*R(z)**2 + 1)*R(z)**2},\n",
       " 'w0': A*(-A**2*b*R(z)**8 + 3024000*Xi**4*a8*R(z)**8 - 33600*Xi**3*a6*R(z)**6 - 940800*Xi**3*a8*k**2*R(z)**6 - 6316800*Xi**3*a8*R(z)**6 - 3521280*Xi**3*a8*R(z)**4*Derivative(R(z), z)**2 + 840*Xi**2*a4*R(z)**4 + 12600*Xi**2*a6*k**2*R(z)**4 + 58080*Xi**2*a6*R(z)**4 + 26880*Xi**2*a6*R(z)**2*Derivative(R(z), z)**2 + 294000*Xi**2*a8*k**4*R(z)**4 + 1626240*Xi**2*a8*k**2*R(z)**4 + 752640*Xi**2*a8*k**2*R(z)**2*Derivative(R(z), z)**2 + 4394880*Xi**2*a8*R(z)**4 + 3010560*Xi**2*a8*R(z)**2*Derivative(R(z), z)**2 + 107520*Xi**2*a8*Derivative(R(z), z)**4 - 20*Xi*a2*R(z)**2 - 120*Xi*a4*k**2*R(z)**2 - 1040*Xi*a4*R(z)**2 - 1500*Xi*a6*k**4*R(z)**2 - 15600*Xi*a6*k**2*R(z)**2 - 30080*Xi*a6*R(z)**2 - 12480*Xi*a6*Derivative(R(z), z)**2 - 34160*Xi*a8*k**6*R(z)**2 - 364000*Xi*a8*k**4*R(z)**2 - 842240*Xi*a8*k**2*R(z)**2 - 349440*Xi*a8*k**2*Derivative(R(z), z)**2 - 1103360*Xi*a8*R(z)**2 - 510720*Xi*a8*Derivative(R(z), z)**2 - a1*k - a2*k**2 + 16*a2 - 3*a4*k**4 + 96*a4*k**2 + 256*a4 - 35*a6*k**6 + 1200*a6*k**4 + 3840*a6*k**2 + 4096*a6 - 791*a8*k**8 + 27328*a8*k**6 + 89600*a8*k**4 + 114688*a8*k**2 + 65536*a8 + omega)*R(z)**4,\n",
       " 'w1': A*(-A**2*b*R(z)**8 + 3024000*Xi**4*a8*R(z)**8 - 33600*Xi**3*a6*R(z)**6 - 940800*Xi**3*a8*k**2*R(z)**6 - 3521280*Xi**3*a8*(-Xi*R(z)**2 + 1)*R(z)**6 - 6316800*Xi**3*a8*R(z)**6 + 840*Xi**2*a4*R(z)**4 + 12600*Xi**2*a6*k**2*R(z)**4 + 26880*Xi**2*a6*(-Xi*R(z)**2 + 1)*R(z)**4 + 58080*Xi**2*a6*R(z)**4 + 294000*Xi**2*a8*k**4*R(z)**4 + 752640*Xi**2*a8*k**2*(-Xi*R(z)**2 + 1)*R(z)**4 + 1626240*Xi**2*a8*k**2*R(z)**4 + 107520*Xi**2*a8*(-Xi*R(z)**2 + 1)**2*R(z)**4 + 3010560*Xi**2*a8*(-Xi*R(z)**2 + 1)*R(z)**4 + 4394880*Xi**2*a8*R(z)**4 - 20*Xi*a2*R(z)**2 - 120*Xi*a4*k**2*R(z)**2 - 1040*Xi*a4*R(z)**2 - 1500*Xi*a6*k**4*R(z)**2 - 15600*Xi*a6*k**2*R(z)**2 - 12480*Xi*a6*(-Xi*R(z)**2 + 1)*R(z)**2 - 30080*Xi*a6*R(z)**2 - 34160*Xi*a8*k**6*R(z)**2 - 364000*Xi*a8*k**4*R(z)**2 - 349440*Xi*a8*k**2*(-Xi*R(z)**2 + 1)*R(z)**2 - 842240*Xi*a8*k**2*R(z)**2 - 510720*Xi*a8*(-Xi*R(z)**2 + 1)*R(z)**2 - 1103360*Xi*a8*R(z)**2 - a1*k - a2*k**2 + 16*a2 - 3*a4*k**4 + 96*a4*k**2 + 256*a4 - 35*a6*k**6 + 1200*a6*k**4 + 3840*a6*k**2 + 4096*a6 - 791*a8*k**8 + 27328*a8*k**6 + 89600*a8*k**4 + 114688*a8*k**2 + 65536*a8 + omega)*R(z)**4,\n",
       " 'w2': A*(-A**2*b*R(z)**8 + 6652800*Xi**4*a8*R(z)**8 - 60480*Xi**3*a6*R(z)**6 - 1693440*Xi**3*a8*k**2*R(z)**6 - 13063680*Xi**3*a8*R(z)**6 + 840*Xi**2*a4*R(z)**4 + 12600*Xi**2*a6*k**2*R(z)**4 + 97440*Xi**2*a6*R(z)**4 + 294000*Xi**2*a8*k**4*R(z)**4 + 2728320*Xi**2*a8*k**2*R(z)**4 + 8023680*Xi**2*a8*R(z)**4 - 20*Xi*a2*R(z)**2 - 120*Xi*a4*k**2*R(z)**2 - 1040*Xi*a4*R(z)**2 - 1500*Xi*a6*k**4*R(z)**2 - 15600*Xi*a6*k**2*R(z)**2 - 42560*Xi*a6*R(z)**2 - 34160*Xi*a8*k**6*R(z)**2 - 364000*Xi*a8*k**4*R(z)**2 - 1191680*Xi*a8*k**2*R(z)**2 - 1614080*Xi*a8*R(z)**2 - a1*k - a2*k**2 + 16*a2 - 3*a4*k**4 + 96*a4*k**2 + 256*a4 - 35*a6*k**6 + 1200*a6*k**4 + 3840*a6*k**2 + 4096*a6 - 791*a8*k**8 + 27328*a8*k**6 + 89600*a8*k**4 + 114688*a8*k**2 + 65536*a8 + omega)*R(z)**4,\n",
       " 'h0': Poly((-A**3*b + 6652800*A*Xi**4*a8)*(R(z))**12 + (-60480*A*Xi**3*a6 - 1693440*A*Xi**3*a8*k**2 - 13063680*A*Xi**3*a8)*(R(z))**10 + (840*A*Xi**2*a4 + 12600*A*Xi**2*a6*k**2 + 97440*A*Xi**2*a6 + 294000*A*Xi**2*a8*k**4 + 2728320*A*Xi**2*a8*k**2 + 8023680*A*Xi**2*a8)*(R(z))**8 + (-20*A*Xi*a2 - 120*A*Xi*a4*k**2 - 1040*A*Xi*a4 - 1500*A*Xi*a6*k**4 - 15600*A*Xi*a6*k**2 - 42560*A*Xi*a6 - 34160*A*Xi*a8*k**6 - 364000*A*Xi*a8*k**4 - 1191680*A*Xi*a8*k**2 - 1614080*A*Xi*a8)*(R(z))**6 + (-A*a1*k - A*a2*k**2 + 16*A*a2 - 3*A*a4*k**4 + 96*A*a4*k**2 + 256*A*a4 - 35*A*a6*k**6 + 1200*A*a6*k**4 + 3840*A*a6*k**2 + 4096*A*a6 - 791*A*a8*k**8 + 27328*A*a8*k**6 + 89600*A*a8*k**4 + 114688*A*a8*k**2 + 65536*A*a8 + A*omega)*(R(z))**4, R(z), domain='ZZ[a1,a2,a4,a6,a8,b,k,A,Xi,omega]'),\n",
       " 'r_coeffs': [-A**3*b + 6652800*A*Xi**4*a8,\n",
       "  -60480*A*Xi**3*a6 - 1693440*A*Xi**3*a8*k**2 - 13063680*A*Xi**3*a8,\n",
       "  840*A*Xi**2*a4 + 12600*A*Xi**2*a6*k**2 + 97440*A*Xi**2*a6 + 294000*A*Xi**2*a8*k**4 + 2728320*A*Xi**2*a8*k**2 + 8023680*A*Xi**2*a8,\n",
       "  -20*A*Xi*a2 - 120*A*Xi*a4*k**2 - 1040*A*Xi*a4 - 1500*A*Xi*a6*k**4 - 15600*A*Xi*a6*k**2 - 42560*A*Xi*a6 - 34160*A*Xi*a8*k**6 - 364000*A*Xi*a8*k**4 - 1191680*A*Xi*a8*k**2 - 1614080*A*Xi*a8,\n",
       "  -A*a1*k - A*a2*k**2 + 16*A*a2 - 3*A*a4*k**4 + 96*A*a4*k**2 + 256*A*a4 - 35*A*a6*k**6 + 1200*A*a6*k**4 + 3840*A*a6*k**2 + 4096*A*a6 - 791*A*a8*k**8 + 27328*A*a8*k**6 + 89600*A*a8*k**4 + 114688*A*a8*k**2 + 65536*A*a8 + A*omega],\n",
       " 'r_eqs': [Eq(-A**3*b + 6652800*A*Xi**4*a8, 0),\n",
       "  Eq(-60480*A*Xi**3*a6 - 1693440*A*Xi**3*a8*k**2 - 13063680*A*Xi**3*a8, 0),\n",
       "  Eq(840*A*Xi**2*a4 + 12600*A*Xi**2*a6*k**2 + 97440*A*Xi**2*a6 + 294000*A*Xi**2*a8*k**4 + 2728320*A*Xi**2*a8*k**2 + 8023680*A*Xi**2*a8, 0),\n",
       "  Eq(-20*A*Xi*a2 - 120*A*Xi*a4*k**2 - 1040*A*Xi*a4 - 1500*A*Xi*a6*k**4 - 15600*A*Xi*a6*k**2 - 42560*A*Xi*a6 - 34160*A*Xi*a8*k**6 - 364000*A*Xi*a8*k**4 - 1191680*A*Xi*a8*k**2 - 1614080*A*Xi*a8, 0),\n",
       "  Eq(-A*a1*k - A*a2*k**2 + 16*A*a2 - 3*A*a4*k**4 + 96*A*a4*k**2 + 256*A*a4 - 35*A*a6*k**6 + 1200*A*a6*k**4 + 3840*A*a6*k**2 + 4096*A*a6 - 791*A*a8*k**8 + 27328*A*a8*k**6 + 89600*A*a8*k**4 + 114688*A*a8*k**2 + 65536*A*a8 + A*omega, 0)]}"
      ]
     },
     "execution_count": 31,
     "metadata": {},
     "output_type": "execute_result"
    }
   ],
   "source": [
    "tt1 = f_subs_R(**tt)\n",
    "tt1"
   ]
  },
  {
   "cell_type": "code",
   "execution_count": 32,
   "metadata": {},
   "outputs": [],
   "source": [
    "r_eqs = tt1[\"r_eqs\"]"
   ]
  },
  {
   "cell_type": "code",
   "execution_count": 33,
   "metadata": {},
   "outputs": [
    {
     "data": {
      "text/plain": [
       "[Eq(-A**3*b + 6652800*A*Xi**4*a8, 0),\n",
       " Eq(-60480*A*Xi**3*a6 - 1693440*A*Xi**3*a8*k**2 - 13063680*A*Xi**3*a8, 0),\n",
       " Eq(840*A*Xi**2*a4 + 12600*A*Xi**2*a6*k**2 + 97440*A*Xi**2*a6 + 294000*A*Xi**2*a8*k**4 + 2728320*A*Xi**2*a8*k**2 + 8023680*A*Xi**2*a8, 0),\n",
       " Eq(-20*A*Xi*a2 - 120*A*Xi*a4*k**2 - 1040*A*Xi*a4 - 1500*A*Xi*a6*k**4 - 15600*A*Xi*a6*k**2 - 42560*A*Xi*a6 - 34160*A*Xi*a8*k**6 - 364000*A*Xi*a8*k**4 - 1191680*A*Xi*a8*k**2 - 1614080*A*Xi*a8, 0),\n",
       " Eq(-A*a1*k - A*a2*k**2 + 16*A*a2 - 3*A*a4*k**4 + 96*A*a4*k**2 + 256*A*a4 - 35*A*a6*k**6 + 1200*A*a6*k**4 + 3840*A*a6*k**2 + 4096*A*a6 - 791*A*a8*k**8 + 27328*A*a8*k**6 + 89600*A*a8*k**4 + 114688*A*a8*k**2 + 65536*A*a8 + A*omega, 0)]"
      ]
     },
     "execution_count": 33,
     "metadata": {},
     "output_type": "execute_result"
    }
   ],
   "source": [
    "r_eqs"
   ]
  },
  {
   "cell_type": "code",
   "execution_count": 36,
   "metadata": {},
   "outputs": [
    {
     "data": {
      "text/plain": [
       "[b, a6, a4, a2, omega]"
      ]
     },
     "execution_count": 36,
     "metadata": {},
     "output_type": "execute_result"
    }
   ],
   "source": [
    "lp_params = f_line_up_params(r_eqs)\n",
    "lp_params"
   ]
  },
  {
   "cell_type": "code",
   "execution_count": 38,
   "metadata": {},
   "outputs": [],
   "source": [
    "subs_re_d = f_extract_from_eq_sys_(r_eqs, lp_params, list(range(0, len(lp_params))))"
   ]
  },
  {
   "cell_type": "code",
   "execution_count": 39,
   "metadata": {},
   "outputs": [
    {
     "data": {
      "text/plain": [
       "-I*C0*Derivative(y(z), z) - a1*k*y(z) + I*a1*Derivative(y(z), z) - a2*k**2*y(z) + 2*I*a2*k*Derivative(y(z), z) + a2*Derivative(y(z), (z, 2)) + a3*k**3*y(z) - 3*I*a3*k**2*Derivative(y(z), z) - 3*a3*k*Derivative(y(z), (z, 2)) + I*a3*Derivative(y(z), (z, 3)) + a4*k**4*y(z) - 4*I*a4*k**3*Derivative(y(z), z) - 6*a4*k**2*Derivative(y(z), (z, 2)) + 4*I*a4*k*Derivative(y(z), (z, 3)) + a4*Derivative(y(z), (z, 4)) - a5*k**5*y(z) + 5*I*a5*k**4*Derivative(y(z), z) + 10*a5*k**3*Derivative(y(z), (z, 2)) - 10*I*a5*k**2*Derivative(y(z), (z, 3)) - 5*a5*k*Derivative(y(z), (z, 4)) + I*a5*Derivative(y(z), (z, 5)) - a6*k**6*y(z) + 6*I*a6*k**5*Derivative(y(z), z) + 15*a6*k**4*Derivative(y(z), (z, 2)) - 20*I*a6*k**3*Derivative(y(z), (z, 3)) - 15*a6*k**2*Derivative(y(z), (z, 4)) + 6*I*a6*k*Derivative(y(z), (z, 5)) + a6*Derivative(y(z), (z, 6)) + a7*k**7*y(z) - 7*I*a7*k**6*Derivative(y(z), z) - 21*a7*k**5*Derivative(y(z), (z, 2)) + 35*I*a7*k**4*Derivative(y(z), (z, 3)) + 35*a7*k**3*Derivative(y(z), (z, 4)) - 21*I*a7*k**2*Derivative(y(z), (z, 5)) - 7*a7*k*Derivative(y(z), (z, 6)) + I*a7*Derivative(y(z), (z, 7)) + a8*k**8*y(z) - 8*I*a8*k**7*Derivative(y(z), z) - 28*a8*k**6*Derivative(y(z), (z, 2)) + 56*I*a8*k**5*Derivative(y(z), (z, 3)) + 70*a8*k**4*Derivative(y(z), (z, 4)) - 56*I*a8*k**3*Derivative(y(z), (z, 5)) - 28*a8*k**2*Derivative(y(z), (z, 6)) + 8*I*a8*k*Derivative(y(z), (z, 7)) + a8*Derivative(y(z), (z, 8)) - b*y(z)**3 + omega*y(z)"
      ]
     },
     "execution_count": 39,
     "metadata": {},
     "output_type": "execute_result"
    }
   ],
   "source": [
    "tmp2 = tt[\"tmp2\"]\n",
    "target_eq_y = tmp2\n",
    "tmp2"
   ]
  },
  {
   "cell_type": "code",
   "execution_count": 40,
   "metadata": {},
   "outputs": [],
   "source": [
    "subs_d = tt1[\"subs_d\"]\n",
    "target_eq_y_subs = subs_d[y(z)]"
   ]
  },
  {
   "cell_type": "code",
   "execution_count": 41,
   "metadata": {},
   "outputs": [],
   "source": [
    "subs_im_d = tt[\"subs_im_d\"]"
   ]
  },
  {
   "cell_type": "code",
   "execution_count": 42,
   "metadata": {},
   "outputs": [],
   "source": [
    "all_coeff_subs_d = { }\n",
    "all_coeff_subs_d.update(subs_re_d)\n",
    "all_coeff_subs_d.update(subs_im_d)"
   ]
  },
  {
   "cell_type": "code",
   "execution_count": 43,
   "metadata": {},
   "outputs": [],
   "source": [
    "target_eq_y_ = target_eq_y.subs(all_coeff_subs_d).expand().simplify().doit()"
   ]
  },
  {
   "cell_type": "code",
   "execution_count": 44,
   "metadata": {},
   "outputs": [],
   "source": [
    "TMP0 = target_eq_y_.subs({ y(z) : target_eq_y_subs }).doit()"
   ]
  },
  {
   "cell_type": "code",
   "execution_count": 45,
   "metadata": {},
   "outputs": [],
   "source": [
    "TMP1 = TMP0.subs({ R(z) : R_subs_ }).simplify().factor().simplify().doit()"
   ]
  },
  {
   "cell_type": "code",
   "execution_count": 46,
   "metadata": {},
   "outputs": [
    {
     "data": {
      "text/plain": [
       "0"
      ]
     },
     "execution_count": 46,
     "metadata": {},
     "output_type": "execute_result"
    }
   ],
   "source": [
    "TMP1.simplify()"
   ]
  },
  {
   "cell_type": "code",
   "execution_count": 117,
   "metadata": {},
   "outputs": [],
   "source": [
    "\n"
   ]
  },
  {
   "cell_type": "code",
   "execution_count": 118,
   "metadata": {},
   "outputs": [],
   "source": [
    "\n",
    "\n"
   ]
  },
  {
   "cell_type": "code",
   "execution_count": 119,
   "metadata": {},
   "outputs": [
    {
     "data": {
      "text/plain": [
       "[a4, a2]"
      ]
     },
     "execution_count": 119,
     "metadata": {},
     "output_type": "execute_result"
    }
   ],
   "source": [
    "\n",
    "f_line_up_params(r_eqs)\n",
    "\n"
   ]
  },
  {
   "cell_type": "code",
   "execution_count": 120,
   "metadata": {},
   "outputs": [
    {
     "data": {
      "text/plain": [
       "{'f_symb': {A, a1, a2, a4, a6, k, omega},\n",
       " 'a_symb': [a4, a6, a2, a1],\n",
       " 'd_': {a4: 1, a6: 1, a2: 1, a1: 1},\n",
       " 'd_min_': [a4, a6, a2, a1],\n",
       " 'line_up_param': a1}"
      ]
     },
     "execution_count": 120,
     "metadata": {},
     "output_type": "execute_result"
    }
   ],
   "source": [
    "f_line_up_one_param(r_eqs[3])"
   ]
  },
  {
   "cell_type": "code",
   "execution_count": 71,
   "metadata": {},
   "outputs": [
    {
     "data": {
      "text/plain": [
       "{b: -20160*Xi**3*a6/A**2,\n",
       " a4: -a6*(15*k**2 + 83),\n",
       " a2: a6*(15*k**4 + 498*k**2 + 1891),\n",
       " omega: a1*k + 5*a6*k**6 + 249*a6*k**4 + 1891*a6*k**2 - 11025*a6}"
      ]
     },
     "execution_count": 71,
     "metadata": {},
     "output_type": "execute_result"
    }
   ],
   "source": [
    "subs_re_d"
   ]
  },
  {
   "cell_type": "code",
   "execution_count": null,
   "metadata": {},
   "outputs": [],
   "source": []
  }
 ],
 "metadata": {
  "kernelspec": {
   "display_name": "Python 3",
   "language": "python",
   "name": "python3"
  },
  "language_info": {
   "codemirror_mode": {
    "name": "ipython",
    "version": 3
   },
   "file_extension": ".py",
   "mimetype": "text/x-python",
   "name": "python",
   "nbconvert_exporter": "python",
   "pygments_lexer": "ipython3",
   "version": "3.7.1"
  }
 },
 "nbformat": 4,
 "nbformat_minor": 2
}
