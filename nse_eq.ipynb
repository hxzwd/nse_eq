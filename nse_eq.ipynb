{
 "cells": [
  {
   "cell_type": "code",
   "execution_count": 2,
   "metadata": {},
   "outputs": [],
   "source": [
    "\n",
    "import sympy as sp\n",
    "\n",
    "from sympy import Symbol\n",
    "from sympy import symbols\n",
    "from sympy import Function\n",
    "from sympy import diff\n",
    "from sympy import I\n",
    "from sympy import exp\n",
    "from sympy import solve\n",
    "from sympy import Eq\n",
    "from sympy import Poly\n",
    "from sympy import sqrt\n",
    "from sympy import tanh\n",
    "from sympy import coth\n",
    "from sympy import fraction\n",
    "\n",
    "from IPython import embed\n",
    "\n",
    "\n",
    "def print_hello_msg():\n",
    "\tprint(\"[main]: mephim/eq\\n\")\n",
    "\tpass\n",
    "\n"
   ]
  },
  {
   "cell_type": "code",
   "execution_count": 3,
   "metadata": {},
   "outputs": [
    {
     "name": "stdout",
     "output_type": "stream",
     "text": [
      "[main]: mephim/eq\n",
      "\n"
     ]
    }
   ],
   "source": [
    "\n",
    "def f_extract_from_eq_sys(eq_sys, param, eq_num, flag_return_new_eq_sys = True):\n",
    "\tif isinstance(param, str):\n",
    "\t\tparam = eval(param)\n",
    "\tparam_s = solve(eq_sys[eq_num], param)[0]\n",
    "\tif flag_return_new_eq_sys == True:\n",
    "\t\tnew_eq_sys = [ eq.subs({ param : param_s }).doit() for eq in eq_sys ]\n",
    "\t\treturn param_s, new_eq_sys\n",
    "\treturn param_s, eq_sys\n",
    "\n",
    "\n",
    "def f_extract_from_eq_sys_(eq_sys, param_list, eq_num_list):\n",
    "\tif eq_num_list == []:\n",
    "\t\teq_num_list = list(range(0, len(eq_sys)))\n",
    "\tparam_res_d = { }\n",
    "\tnew_eq_sys = eq_sys\n",
    "\tfor index, param in enumerate(param_list):\n",
    "\t\tparam_s_, new_eq_sys = f_extract_from_eq_sys(new_eq_sys, param, eq_num_list[index])\n",
    "\t\tparam_res_d[param] = param_s_\n",
    "\treturn param_res_d\n",
    "\n",
    "\n",
    "\n",
    "print_hello_msg()\n"
   ]
  },
  {
   "cell_type": "code",
   "execution_count": 4,
   "metadata": {},
   "outputs": [],
   "source": [
    "\n",
    "def f_gen_target_eq(n):\n",
    "\tcoeff_list = { }\n",
    "\tq_der_list = [ ]\n",
    "\tq = Function(\"q\", nargs = 2)\n",
    "\ty = Function(\"y\", nargs = 1)\n",
    "\tx = Symbol(\"x\", real = True)\n",
    "\tt = Symbol(\"t\", real = True)\n",
    "\tfor i in range(1, n * 2 + 1):\n",
    "\t\tkey = \"a{}\".format(i)\n",
    "\t\tvalue = eval(\"Symbol(\\\"{}\\\")\".format(key))\n",
    "\t\tcoeff_list[key] = value\n",
    "\tqt = diff(q(x, t), t, 1)\n",
    "\tq_der_list = [ qt ]\n",
    "\tfor i in range(1, n * 2 + 1):\n",
    "\t\tq_der_list.append(diff(q(x, t), x, i))\n",
    "\ttarget_eq = qt * I\n",
    "\tfor index, value in enumerate(q_der_list):\n",
    "\t\tif index == 0:\n",
    "\t\t\tcontinue\n",
    "\t\tkey = \"a{}\".format(index)\n",
    "\t\ttarget_eq += coeff_list[key] * value * ( I if (index % 2 == 1) else 1 )\n",
    "\treturn { \"target_eq\" : target_eq, \"params\" : coeff_list, \"q\" : q, \"y\" : y, \"x\" : x, \"t\" : t, \"q_der_list\" : q_der_list, \"n\" : n }\n"
   ]
  },
  {
   "cell_type": "code",
   "execution_count": 5,
   "metadata": {},
   "outputs": [],
   "source": [
    "\n",
    "def f_subs_trav_wave(target_eq = None, params = { }, q = None, y = None, x = None, t = None, q_der_list = [ ], n = None):\n",
    "\tC0 = Symbol(\"C0\")\n",
    "\tk = Symbol(\"k\")\n",
    "\tomega = Symbol(\"omega\")\n",
    "\tb = Symbol(\"b\")\n",
    "\tz = Symbol(\"z\")\n",
    "\ttmpp = [ \"C0\", \"k\", \"omega\", \"b\", \"z\" ]\n",
    "\tres_d = dict(zip(tmpp, map(eval, tmpp)))\n",
    "\tsubs_fun = y(x - C0 * t) * exp( I * ( k * x - omega * t ) )\n",
    "\tres_d[\"subs_fun\"] = subs_fun\n",
    "\ttmp1 = target_eq.subs({ q(x, t) : subs_fun }).doit().simplify().doit().expand().subs({ x - C0 * t : x }).doit()\n",
    "\tres_d[\"tmp1\"] = tmp1\n",
    "\ttmp2 = tmp1.subs({ exp(I*k*x) : 1, exp(-I*omega*t) : 1}).doit()\n",
    "\ttmp2 = tmp2 - b * y(x)**3\n",
    "\ttmp2 = tmp2.subs({ x : z }).doit()\n",
    "\tres_d[\"tmp2\"] = tmp2\n",
    "\tre_eq = tmp2.subs({ I : 0 }).doit()\n",
    "\tim_eq = tmp2.coeff(I)\n",
    "\tres_d[\"re_eq\"] = re_eq\n",
    "\tres_d[\"im_eq\"] = im_eq\n",
    "\tqq_re = [ i for i in re_eq.as_terms()[-1] if not i.is_Atom ]\n",
    "\tqq_im = [ i for i in im_eq.as_terms()[-1] if not i.is_Atom ]\n",
    "\tres_d[\"qq_re\"] = qq_re\n",
    "\tres_d[\"qq_im\"] = qq_im\n",
    "\tim_eq_coeff = [ im_eq.coeff(i) for i in qq_im ]\n",
    "\tim_eq_sys = [ Eq(i) for i in im_eq_coeff ]\n",
    "\tres_d[\"im_eq_coeff\"] = im_eq_coeff\n",
    "\tres_d[\"im_eq_sys\"] = im_eq_sys\n",
    "\ttt = [ [j for j in i.as_expr().as_ordered_terms()[0].atoms() if j.is_symbol ][0] for i in im_eq_coeff ]\n",
    "\ttt = list(reversed(tt))\n",
    "\teq_num_list = list(reversed(range(0, len(im_eq_sys))))\n",
    "\tsubs_im_d = f_extract_from_eq_sys_(im_eq_sys, tt, eq_num_list)\n",
    "\tres_d[\"tt\"] = tt\n",
    "\tres_d[\"subs_im_d\"] = subs_im_d\n",
    "\tres_d[\"n\"] = n\n",
    "\treturn res_d\n"
   ]
  },
  {
   "cell_type": "code",
   "execution_count": 6,
   "metadata": {},
   "outputs": [],
   "source": [
    "\n",
    "def f_generate_y_subs(n, a, limit = 4):\n",
    "\tN = Symbol(\"N\")\n",
    "\tA = Symbol(\"A\")\n",
    "\tXi = Symbol(\"Xi\")\n",
    "\ta = Symbol(\"a\")\n",
    "\talpha = Symbol(\"alpha\")\n",
    "\tC = Symbol(\"C\")\n",
    "\tR = Function(\"R\", nargs = 1)\n",
    "\tsubs_ = { }\n",
    "\tres_subs_ = { }\n",
    "\tsubs_[diff(R(z), z, 1)**2] =  R(z)**2 * (1 - Xi * R(z)**2)\n",
    "\tsubs_[diff(R(z),z, 2)] = R(z) - 2 * Xi * R(z)**3\n",
    "\ty_subs = a * R(z)**n\n",
    "\ty_subs = A * R(z)**n\n",
    "\ttmp_list = [ y_subs ]\n",
    "\ttmp_keys_list = [ y(z) ]\n",
    "\tfor i in range(0, limit):\n",
    "\t\ttmp_ = tmp_list[i]\n",
    "\t\ttmp_ = diff(tmp_, z, 1)\n",
    "\t\ttmp_list.append(tmp_.subs(subs_).simplify().doit())\n",
    "\t\ttmp_key = tmp_keys_list[i]\n",
    "\t\ttmp_keys_list.append(diff(tmp_key, z, 1))\n",
    "\ttmp_keys_list = reversed(tmp_keys_list)\n",
    "\ttmp_list = reversed(tmp_list)\n",
    "\treturn dict(zip(tmp_keys_list, tmp_list))\n"
   ]
  },
  {
   "cell_type": "code",
   "execution_count": 26,
   "metadata": {},
   "outputs": [],
   "source": [
    "\n",
    "q = Function(\"q\", nargs = 2)\n",
    "y = Function(\"y\", nargs = 1)\n",
    "x = Symbol(\"x\", real = True)\n",
    "t = Symbol(\"t\", real = True)\n",
    "\n",
    "\n",
    "a1, a2, a3, a4 = symbols(\"a1 a2 a3 a4\")\n",
    "\n",
    "qt = diff(q(x, t), t, 1)\n",
    "qx = diff(q(x, t), x, 1)\n",
    "qxx = diff(q(x, t), x, 2)\n",
    "qxxx = diff(q(x, t), x, 3)\n",
    "qxxxx = diff(q(x, t), x, 4)\n",
    "\n",
    "\n",
    "\n",
    "C0 = Symbol(\"C0\")\n",
    "k = Symbol(\"k\")\n",
    "omega = Symbol(\"omega\")\n",
    "b = Symbol(\"b\")\n",
    "z = Symbol(\"z\")\n",
    "\n",
    "N = Symbol(\"N\")\n",
    "A = Symbol(\"A\")\n",
    "Xi = Symbol(\"Xi\")\n",
    "a = Symbol(\"a\")\n",
    "alpha = Symbol(\"alpha\")\n",
    "C = Symbol(\"C\")\n",
    "R = Function(\"R\", nargs = 1)\n",
    "\n",
    "subs_fun = y(x - C0 * t) * exp( I * ( k * x - omega * t ) )\n",
    "\n",
    "R_subs_ = 2 * exp(z) * C / ( C + Xi * exp(2 * z) )\n",
    "R_subs_ = R_subs_.subs({ C : 1 })\n"
   ]
  },
  {
   "cell_type": "code",
   "execution_count": 23,
   "metadata": {},
   "outputs": [],
   "source": [
    "\n",
    "def f_subs_R(re_eq = None, subs_im_d = { }, qq_re = [ ], n = None, **kwargs):\n",
    "\tres_d = { }\n",
    "\tnn = qq_re[-1].derivative_count\n",
    "\tsubs_d = f_generate_y_subs(n, A, limit = nn)\n",
    "\tsubs_d_re = dict([ [i, v] for i, v in subs_d.items() if i in qq_re ])\n",
    "\tsubs_d_next = { diff(R(z), z, 1)**2 : R(z)**2 * (1 - Xi * R(z)**2) }\n",
    "\tw0 = re_eq\n",
    "\tw0 = re_eq.subs(subs_im_d).doit()\n",
    "\tfor i, v in subs_d_re.items():\n",
    "\t\tw0 = w0.subs({ i : v }).expand().simplify().doit()\n",
    "\tw1 = w0.subs(subs_d_next).doit()\n",
    "\tw2 = w1.expand().simplify().doit()\n",
    "\n",
    "\th0 = Poly(w2, R(z))\n",
    "\n",
    "\tr_coeffs = h0.coeffs()\n",
    "\tr_eqs = [ Eq(i) for i in r_coeffs ]\n",
    "\tres_d = { \"nn\" : nn, \"subs_d\" : subs_d, \"subs_d_re\" : subs_d_re,\n",
    "\t\t\"subs_d_next\" : subs_d_next, \"w0\" : w0, \"w1\" : w1, \"w2\" : w2,\n",
    "\t\t\"h0\" : h0, \"r_coeffs\" : r_coeffs, \"r_eqs\" : r_eqs }\n",
    "\treturn res_d\n"
   ]
  },
  {
   "cell_type": "code",
   "execution_count": null,
   "metadata": {},
   "outputs": [],
   "source": []
  },
  {
   "cell_type": "code",
   "execution_count": 11,
   "metadata": {},
   "outputs": [],
   "source": [
    "\n",
    "target_eq = I * qt - I * a1 * qx + a2 * qxx - I * a3 * qxxx + a4 * qxxxx\n",
    "target_eq = I * qt + I * a1 * qx + a2 * qxx + I * a3 * qxxx + a4 * qxxxx\n"
   ]
  },
  {
   "cell_type": "code",
   "execution_count": 12,
   "metadata": {},
   "outputs": [],
   "source": [
    "tmp1 = target_eq.subs({ q(x, t) : subs_fun }).doit().simplify().doit().expand().subs({ x - C0 * t : x }).doit()"
   ]
  },
  {
   "cell_type": "code",
   "execution_count": 13,
   "metadata": {},
   "outputs": [
    {
     "data": {
      "text/plain": [
       "-I*C0*exp(I*k*x)*exp(-I*omega*t)*Derivative(y(x), x) - a1*k*exp(I*k*x)*exp(-I*omega*t)*y(x) + I*a1*exp(I*k*x)*exp(-I*omega*t)*Derivative(y(x), x) - a2*k**2*exp(I*k*x)*exp(-I*omega*t)*y(x) + 2*I*a2*k*exp(I*k*x)*exp(-I*omega*t)*Derivative(y(x), x) + a2*exp(I*k*x)*exp(-I*omega*t)*Derivative(y(x), (x, 2)) + a3*k**3*exp(I*k*x)*exp(-I*omega*t)*y(x) - 3*I*a3*k**2*exp(I*k*x)*exp(-I*omega*t)*Derivative(y(x), x) - 3*a3*k*exp(I*k*x)*exp(-I*omega*t)*Derivative(y(x), (x, 2)) + I*a3*exp(I*k*x)*exp(-I*omega*t)*Derivative(y(x), (x, 3)) + a4*k**4*exp(I*k*x)*exp(-I*omega*t)*y(x) - 4*I*a4*k**3*exp(I*k*x)*exp(-I*omega*t)*Derivative(y(x), x) - 6*a4*k**2*exp(I*k*x)*exp(-I*omega*t)*Derivative(y(x), (x, 2)) + 4*I*a4*k*exp(I*k*x)*exp(-I*omega*t)*Derivative(y(x), (x, 3)) + a4*exp(I*k*x)*exp(-I*omega*t)*Derivative(y(x), (x, 4)) + omega*exp(I*k*x)*exp(-I*omega*t)*y(x)"
      ]
     },
     "execution_count": 13,
     "metadata": {},
     "output_type": "execute_result"
    }
   ],
   "source": [
    "tmp1"
   ]
  },
  {
   "cell_type": "code",
   "execution_count": 14,
   "metadata": {},
   "outputs": [],
   "source": [
    "res_ = f_gen_target_eq(2)"
   ]
  },
  {
   "cell_type": "code",
   "execution_count": 15,
   "metadata": {},
   "outputs": [
    {
     "data": {
      "text/plain": [
       "{'target_eq': I*a1*Derivative(q(x, t), x) + a2*Derivative(q(x, t), (x, 2)) + I*a3*Derivative(q(x, t), (x, 3)) + a4*Derivative(q(x, t), (x, 4)) + I*Derivative(q(x, t), t),\n",
       " 'params': {'a1': a1, 'a2': a2, 'a3': a3, 'a4': a4},\n",
       " 'q': q,\n",
       " 'y': y,\n",
       " 'x': x,\n",
       " 't': t,\n",
       " 'q_der_list': [Derivative(q(x, t), t),\n",
       "  Derivative(q(x, t), x),\n",
       "  Derivative(q(x, t), (x, 2)),\n",
       "  Derivative(q(x, t), (x, 3)),\n",
       "  Derivative(q(x, t), (x, 4))],\n",
       " 'n': 2}"
      ]
     },
     "execution_count": 15,
     "metadata": {},
     "output_type": "execute_result"
    }
   ],
   "source": [
    "res_"
   ]
  },
  {
   "cell_type": "code",
   "execution_count": 16,
   "metadata": {},
   "outputs": [
    {
     "data": {
      "text/plain": [
       "{'C0': C0,\n",
       " 'k': k,\n",
       " 'omega': omega,\n",
       " 'b': b,\n",
       " 'z': z,\n",
       " 'subs_fun': exp(I*(k*x - omega*t))*y(-C0*t + x),\n",
       " 'tmp1': -I*C0*exp(I*k*x)*exp(-I*omega*t)*Derivative(y(x), x) - a1*k*exp(I*k*x)*exp(-I*omega*t)*y(x) + I*a1*exp(I*k*x)*exp(-I*omega*t)*Derivative(y(x), x) - a2*k**2*exp(I*k*x)*exp(-I*omega*t)*y(x) + 2*I*a2*k*exp(I*k*x)*exp(-I*omega*t)*Derivative(y(x), x) + a2*exp(I*k*x)*exp(-I*omega*t)*Derivative(y(x), (x, 2)) + a3*k**3*exp(I*k*x)*exp(-I*omega*t)*y(x) - 3*I*a3*k**2*exp(I*k*x)*exp(-I*omega*t)*Derivative(y(x), x) - 3*a3*k*exp(I*k*x)*exp(-I*omega*t)*Derivative(y(x), (x, 2)) + I*a3*exp(I*k*x)*exp(-I*omega*t)*Derivative(y(x), (x, 3)) + a4*k**4*exp(I*k*x)*exp(-I*omega*t)*y(x) - 4*I*a4*k**3*exp(I*k*x)*exp(-I*omega*t)*Derivative(y(x), x) - 6*a4*k**2*exp(I*k*x)*exp(-I*omega*t)*Derivative(y(x), (x, 2)) + 4*I*a4*k*exp(I*k*x)*exp(-I*omega*t)*Derivative(y(x), (x, 3)) + a4*exp(I*k*x)*exp(-I*omega*t)*Derivative(y(x), (x, 4)) + omega*exp(I*k*x)*exp(-I*omega*t)*y(x),\n",
       " 'tmp2': -I*C0*Derivative(y(z), z) - a1*k*y(z) + I*a1*Derivative(y(z), z) - a2*k**2*y(z) + 2*I*a2*k*Derivative(y(z), z) + a2*Derivative(y(z), (z, 2)) + a3*k**3*y(z) - 3*I*a3*k**2*Derivative(y(z), z) - 3*a3*k*Derivative(y(z), (z, 2)) + I*a3*Derivative(y(z), (z, 3)) + a4*k**4*y(z) - 4*I*a4*k**3*Derivative(y(z), z) - 6*a4*k**2*Derivative(y(z), (z, 2)) + 4*I*a4*k*Derivative(y(z), (z, 3)) + a4*Derivative(y(z), (z, 4)) - b*y(z)**3 + omega*y(z),\n",
       " 're_eq': -a1*k*y(z) - a2*k**2*y(z) + a2*Derivative(y(z), (z, 2)) + a3*k**3*y(z) - 3*a3*k*Derivative(y(z), (z, 2)) + a4*k**4*y(z) - 6*a4*k**2*Derivative(y(z), (z, 2)) + a4*Derivative(y(z), (z, 4)) - b*y(z)**3 + omega*y(z),\n",
       " 'im_eq': -C0*Derivative(y(z), z) + a1*Derivative(y(z), z) + 2*a2*k*Derivative(y(z), z) - 3*a3*k**2*Derivative(y(z), z) + a3*Derivative(y(z), (z, 3)) - 4*a4*k**3*Derivative(y(z), z) + 4*a4*k*Derivative(y(z), (z, 3)),\n",
       " 'qq_re': [y(z), Derivative(y(z), (z, 2)), Derivative(y(z), (z, 4))],\n",
       " 'qq_im': [Derivative(y(z), z), Derivative(y(z), (z, 3))],\n",
       " 'im_eq_coeff': [-C0 + a1 + 2*a2*k - 3*a3*k**2 - 4*a4*k**3, a3 + 4*a4*k],\n",
       " 'im_eq_sys': [Eq(-C0 + a1 + 2*a2*k - 3*a3*k**2 - 4*a4*k**3, 0),\n",
       "  Eq(a3 + 4*a4*k, 0)],\n",
       " 'tt': [a3, C0],\n",
       " 'subs_im_d': {a3: -4*a4*k, C0: a1 + 2*a2*k + 8*a4*k**3},\n",
       " 'n': 2}"
      ]
     },
     "execution_count": 16,
     "metadata": {},
     "output_type": "execute_result"
    }
   ],
   "source": [
    "f_subs_trav_wave(**res_)"
   ]
  },
  {
   "cell_type": "code",
   "execution_count": 17,
   "metadata": {},
   "outputs": [],
   "source": [
    "res_ = f_gen_target_eq(3)"
   ]
  },
  {
   "cell_type": "code",
   "execution_count": 18,
   "metadata": {},
   "outputs": [
    {
     "data": {
      "text/plain": [
       "{'target_eq': I*a1*Derivative(q(x, t), x) + a2*Derivative(q(x, t), (x, 2)) + I*a3*Derivative(q(x, t), (x, 3)) + a4*Derivative(q(x, t), (x, 4)) + I*a5*Derivative(q(x, t), (x, 5)) + a6*Derivative(q(x, t), (x, 6)) + I*Derivative(q(x, t), t),\n",
       " 'params': {'a1': a1, 'a2': a2, 'a3': a3, 'a4': a4, 'a5': a5, 'a6': a6},\n",
       " 'q': q,\n",
       " 'y': y,\n",
       " 'x': x,\n",
       " 't': t,\n",
       " 'q_der_list': [Derivative(q(x, t), t),\n",
       "  Derivative(q(x, t), x),\n",
       "  Derivative(q(x, t), (x, 2)),\n",
       "  Derivative(q(x, t), (x, 3)),\n",
       "  Derivative(q(x, t), (x, 4)),\n",
       "  Derivative(q(x, t), (x, 5)),\n",
       "  Derivative(q(x, t), (x, 6))],\n",
       " 'n': 3}"
      ]
     },
     "execution_count": 18,
     "metadata": {},
     "output_type": "execute_result"
    }
   ],
   "source": [
    "res_"
   ]
  },
  {
   "cell_type": "code",
   "execution_count": 21,
   "metadata": {},
   "outputs": [
    {
     "data": {
      "text/plain": [
       "{'C0': C0,\n",
       " 'k': k,\n",
       " 'omega': omega,\n",
       " 'b': b,\n",
       " 'z': z,\n",
       " 'subs_fun': exp(I*(k*x - omega*t))*y(-C0*t + x),\n",
       " 'tmp1': -I*C0*exp(I*k*x)*exp(-I*omega*t)*Derivative(y(x), x) - a1*k*exp(I*k*x)*exp(-I*omega*t)*y(x) + I*a1*exp(I*k*x)*exp(-I*omega*t)*Derivative(y(x), x) - a2*k**2*exp(I*k*x)*exp(-I*omega*t)*y(x) + 2*I*a2*k*exp(I*k*x)*exp(-I*omega*t)*Derivative(y(x), x) + a2*exp(I*k*x)*exp(-I*omega*t)*Derivative(y(x), (x, 2)) + a3*k**3*exp(I*k*x)*exp(-I*omega*t)*y(x) - 3*I*a3*k**2*exp(I*k*x)*exp(-I*omega*t)*Derivative(y(x), x) - 3*a3*k*exp(I*k*x)*exp(-I*omega*t)*Derivative(y(x), (x, 2)) + I*a3*exp(I*k*x)*exp(-I*omega*t)*Derivative(y(x), (x, 3)) + a4*k**4*exp(I*k*x)*exp(-I*omega*t)*y(x) - 4*I*a4*k**3*exp(I*k*x)*exp(-I*omega*t)*Derivative(y(x), x) - 6*a4*k**2*exp(I*k*x)*exp(-I*omega*t)*Derivative(y(x), (x, 2)) + 4*I*a4*k*exp(I*k*x)*exp(-I*omega*t)*Derivative(y(x), (x, 3)) + a4*exp(I*k*x)*exp(-I*omega*t)*Derivative(y(x), (x, 4)) - a5*k**5*exp(I*k*x)*exp(-I*omega*t)*y(x) + 5*I*a5*k**4*exp(I*k*x)*exp(-I*omega*t)*Derivative(y(x), x) + 10*a5*k**3*exp(I*k*x)*exp(-I*omega*t)*Derivative(y(x), (x, 2)) - 10*I*a5*k**2*exp(I*k*x)*exp(-I*omega*t)*Derivative(y(x), (x, 3)) - 5*a5*k*exp(I*k*x)*exp(-I*omega*t)*Derivative(y(x), (x, 4)) + I*a5*exp(I*k*x)*exp(-I*omega*t)*Derivative(y(x), (x, 5)) - a6*k**6*exp(I*k*x)*exp(-I*omega*t)*y(x) + 6*I*a6*k**5*exp(I*k*x)*exp(-I*omega*t)*Derivative(y(x), x) + 15*a6*k**4*exp(I*k*x)*exp(-I*omega*t)*Derivative(y(x), (x, 2)) - 20*I*a6*k**3*exp(I*k*x)*exp(-I*omega*t)*Derivative(y(x), (x, 3)) - 15*a6*k**2*exp(I*k*x)*exp(-I*omega*t)*Derivative(y(x), (x, 4)) + 6*I*a6*k*exp(I*k*x)*exp(-I*omega*t)*Derivative(y(x), (x, 5)) + a6*exp(I*k*x)*exp(-I*omega*t)*Derivative(y(x), (x, 6)) + omega*exp(I*k*x)*exp(-I*omega*t)*y(x),\n",
       " 'tmp2': -I*C0*Derivative(y(z), z) - a1*k*y(z) + I*a1*Derivative(y(z), z) - a2*k**2*y(z) + 2*I*a2*k*Derivative(y(z), z) + a2*Derivative(y(z), (z, 2)) + a3*k**3*y(z) - 3*I*a3*k**2*Derivative(y(z), z) - 3*a3*k*Derivative(y(z), (z, 2)) + I*a3*Derivative(y(z), (z, 3)) + a4*k**4*y(z) - 4*I*a4*k**3*Derivative(y(z), z) - 6*a4*k**2*Derivative(y(z), (z, 2)) + 4*I*a4*k*Derivative(y(z), (z, 3)) + a4*Derivative(y(z), (z, 4)) - a5*k**5*y(z) + 5*I*a5*k**4*Derivative(y(z), z) + 10*a5*k**3*Derivative(y(z), (z, 2)) - 10*I*a5*k**2*Derivative(y(z), (z, 3)) - 5*a5*k*Derivative(y(z), (z, 4)) + I*a5*Derivative(y(z), (z, 5)) - a6*k**6*y(z) + 6*I*a6*k**5*Derivative(y(z), z) + 15*a6*k**4*Derivative(y(z), (z, 2)) - 20*I*a6*k**3*Derivative(y(z), (z, 3)) - 15*a6*k**2*Derivative(y(z), (z, 4)) + 6*I*a6*k*Derivative(y(z), (z, 5)) + a6*Derivative(y(z), (z, 6)) - b*y(z)**3 + omega*y(z),\n",
       " 're_eq': -a1*k*y(z) - a2*k**2*y(z) + a2*Derivative(y(z), (z, 2)) + a3*k**3*y(z) - 3*a3*k*Derivative(y(z), (z, 2)) + a4*k**4*y(z) - 6*a4*k**2*Derivative(y(z), (z, 2)) + a4*Derivative(y(z), (z, 4)) - a5*k**5*y(z) + 10*a5*k**3*Derivative(y(z), (z, 2)) - 5*a5*k*Derivative(y(z), (z, 4)) - a6*k**6*y(z) + 15*a6*k**4*Derivative(y(z), (z, 2)) - 15*a6*k**2*Derivative(y(z), (z, 4)) + a6*Derivative(y(z), (z, 6)) - b*y(z)**3 + omega*y(z),\n",
       " 'im_eq': -C0*Derivative(y(z), z) + a1*Derivative(y(z), z) + 2*a2*k*Derivative(y(z), z) - 3*a3*k**2*Derivative(y(z), z) + a3*Derivative(y(z), (z, 3)) - 4*a4*k**3*Derivative(y(z), z) + 4*a4*k*Derivative(y(z), (z, 3)) + 5*a5*k**4*Derivative(y(z), z) - 10*a5*k**2*Derivative(y(z), (z, 3)) + a5*Derivative(y(z), (z, 5)) + 6*a6*k**5*Derivative(y(z), z) - 20*a6*k**3*Derivative(y(z), (z, 3)) + 6*a6*k*Derivative(y(z), (z, 5)),\n",
       " 'qq_re': [y(z),\n",
       "  Derivative(y(z), (z, 2)),\n",
       "  Derivative(y(z), (z, 4)),\n",
       "  Derivative(y(z), (z, 6))],\n",
       " 'qq_im': [Derivative(y(z), z),\n",
       "  Derivative(y(z), (z, 3)),\n",
       "  Derivative(y(z), (z, 5))],\n",
       " 'im_eq_coeff': [-C0 + a1 + 2*a2*k - 3*a3*k**2 - 4*a4*k**3 + 5*a5*k**4 + 6*a6*k**5,\n",
       "  a3 + 4*a4*k - 10*a5*k**2 - 20*a6*k**3,\n",
       "  a5 + 6*a6*k],\n",
       " 'im_eq_sys': [Eq(-C0 + a1 + 2*a2*k - 3*a3*k**2 - 4*a4*k**3 + 5*a5*k**4 + 6*a6*k**5, 0),\n",
       "  Eq(a3 + 4*a4*k - 10*a5*k**2 - 20*a6*k**3, 0),\n",
       "  Eq(a5 + 6*a6*k, 0)],\n",
       " 'tt': [a5, a3, C0],\n",
       " 'subs_im_d': {a5: -6*a6*k,\n",
       "  a3: -4*k*(a4 + 10*a6*k**2),\n",
       "  C0: a1 + 2*a2*k + 8*a4*k**3 + 96*a6*k**5},\n",
       " 'n': 3}"
      ]
     },
     "execution_count": 21,
     "metadata": {},
     "output_type": "execute_result"
    }
   ],
   "source": [
    "tt = f_subs_trav_wave(**res_)\n",
    "tt"
   ]
  },
  {
   "cell_type": "code",
   "execution_count": 28,
   "metadata": {},
   "outputs": [
    {
     "data": {
      "text/plain": [
       "{'nn': 6,\n",
       " 'subs_d': {Derivative(y(z), (z, 6)): 3*A*(-3360*Xi**3*R(z)**6 + 5240*Xi**2*R(z)**4 + 3360*Xi**2*R(z)**2*Derivative(R(z), z)**2 - 2364*Xi*R(z)**2 - 1360*Xi*Derivative(R(z), z)**2 + 243)*R(z)**3,\n",
       "  Derivative(y(z), (z, 5)): 3*A*(840*Xi**2*R(z)**4 - 680*Xi*R(z)**2 + 81)*R(z)**2*Derivative(R(z), z),\n",
       "  Derivative(y(z), (z, 4)): 3*A*(120*Xi**2*R(z)**4 - 136*Xi*R(z)**2 + 27)*R(z)**3,\n",
       "  Derivative(y(z), (z, 3)): 3*A*(-20*Xi*R(z)**2 + 9)*R(z)**2*Derivative(R(z), z),\n",
       "  Derivative(y(z), (z, 2)): 3*A*(-4*Xi*R(z)**2 + 3)*R(z)**3,\n",
       "  Derivative(y(z), z): 3*A*R(z)**2*Derivative(R(z), z),\n",
       "  y(z): A*R(z)**3},\n",
       " 'subs_d_re': {Derivative(y(z), (z, 6)): 3*A*(-3360*Xi**3*R(z)**6 + 5240*Xi**2*R(z)**4 + 3360*Xi**2*R(z)**2*Derivative(R(z), z)**2 - 2364*Xi*R(z)**2 - 1360*Xi*Derivative(R(z), z)**2 + 243)*R(z)**3,\n",
       "  Derivative(y(z), (z, 4)): 3*A*(120*Xi**2*R(z)**4 - 136*Xi*R(z)**2 + 27)*R(z)**3,\n",
       "  Derivative(y(z), (z, 2)): 3*A*(-4*Xi*R(z)**2 + 3)*R(z)**3,\n",
       "  y(z): A*R(z)**3},\n",
       " 'subs_d_next': {Derivative(R(z), z)**2: (-Xi*R(z)**2 + 1)*R(z)**2},\n",
       " 'w0': A*(-A**2*b*R(z)**6 - 10080*Xi**3*a6*R(z)**6 + 360*Xi**2*a4*R(z)**4 + 5400*Xi**2*a6*k**2*R(z)**4 + 15720*Xi**2*a6*R(z)**4 + 10080*Xi**2*a6*R(z)**2*Derivative(R(z), z)**2 - 12*Xi*a2*R(z)**2 - 72*Xi*a4*k**2*R(z)**2 - 408*Xi*a4*R(z)**2 - 900*Xi*a6*k**4*R(z)**2 - 6120*Xi*a6*k**2*R(z)**2 - 7092*Xi*a6*R(z)**2 - 4080*Xi*a6*Derivative(R(z), z)**2 - a1*k - a2*k**2 + 9*a2 - 3*a4*k**4 + 54*a4*k**2 + 81*a4 - 35*a6*k**6 + 675*a6*k**4 + 1215*a6*k**2 + 729*a6 + omega)*R(z)**3,\n",
       " 'w1': A*(-A**2*b*R(z)**6 - 10080*Xi**3*a6*R(z)**6 + 360*Xi**2*a4*R(z)**4 + 5400*Xi**2*a6*k**2*R(z)**4 + 10080*Xi**2*a6*(-Xi*R(z)**2 + 1)*R(z)**4 + 15720*Xi**2*a6*R(z)**4 - 12*Xi*a2*R(z)**2 - 72*Xi*a4*k**2*R(z)**2 - 408*Xi*a4*R(z)**2 - 900*Xi*a6*k**4*R(z)**2 - 6120*Xi*a6*k**2*R(z)**2 - 4080*Xi*a6*(-Xi*R(z)**2 + 1)*R(z)**2 - 7092*Xi*a6*R(z)**2 - a1*k - a2*k**2 + 9*a2 - 3*a4*k**4 + 54*a4*k**2 + 81*a4 - 35*a6*k**6 + 675*a6*k**4 + 1215*a6*k**2 + 729*a6 + omega)*R(z)**3,\n",
       " 'w2': A*(-A**2*b*R(z)**6 - 20160*Xi**3*a6*R(z)**6 + 360*Xi**2*a4*R(z)**4 + 5400*Xi**2*a6*k**2*R(z)**4 + 29880*Xi**2*a6*R(z)**4 - 12*Xi*a2*R(z)**2 - 72*Xi*a4*k**2*R(z)**2 - 408*Xi*a4*R(z)**2 - 900*Xi*a6*k**4*R(z)**2 - 6120*Xi*a6*k**2*R(z)**2 - 11172*Xi*a6*R(z)**2 - a1*k - a2*k**2 + 9*a2 - 3*a4*k**4 + 54*a4*k**2 + 81*a4 - 35*a6*k**6 + 675*a6*k**4 + 1215*a6*k**2 + 729*a6 + omega)*R(z)**3,\n",
       " 'h0': Poly((-A**3*b - 20160*A*Xi**3*a6)*(R(z))**9 + (360*A*Xi**2*a4 + 5400*A*Xi**2*a6*k**2 + 29880*A*Xi**2*a6)*(R(z))**7 + (-12*A*Xi*a2 - 72*A*Xi*a4*k**2 - 408*A*Xi*a4 - 900*A*Xi*a6*k**4 - 6120*A*Xi*a6*k**2 - 11172*A*Xi*a6)*(R(z))**5 + (-A*a1*k - A*a2*k**2 + 9*A*a2 - 3*A*a4*k**4 + 54*A*a4*k**2 + 81*A*a4 - 35*A*a6*k**6 + 675*A*a6*k**4 + 1215*A*a6*k**2 + 729*A*a6 + A*omega)*(R(z))**3, R(z), domain='ZZ[a1,a2,a4,a6,b,k,A,Xi,omega]'),\n",
       " 'r_coeffs': [-A**3*b - 20160*A*Xi**3*a6,\n",
       "  360*A*Xi**2*a4 + 5400*A*Xi**2*a6*k**2 + 29880*A*Xi**2*a6,\n",
       "  -12*A*Xi*a2 - 72*A*Xi*a4*k**2 - 408*A*Xi*a4 - 900*A*Xi*a6*k**4 - 6120*A*Xi*a6*k**2 - 11172*A*Xi*a6,\n",
       "  -A*a1*k - A*a2*k**2 + 9*A*a2 - 3*A*a4*k**4 + 54*A*a4*k**2 + 81*A*a4 - 35*A*a6*k**6 + 675*A*a6*k**4 + 1215*A*a6*k**2 + 729*A*a6 + A*omega],\n",
       " 'r_eqs': [Eq(-A**3*b - 20160*A*Xi**3*a6, 0),\n",
       "  Eq(360*A*Xi**2*a4 + 5400*A*Xi**2*a6*k**2 + 29880*A*Xi**2*a6, 0),\n",
       "  Eq(-12*A*Xi*a2 - 72*A*Xi*a4*k**2 - 408*A*Xi*a4 - 900*A*Xi*a6*k**4 - 6120*A*Xi*a6*k**2 - 11172*A*Xi*a6, 0),\n",
       "  Eq(-A*a1*k - A*a2*k**2 + 9*A*a2 - 3*A*a4*k**4 + 54*A*a4*k**2 + 81*A*a4 - 35*A*a6*k**6 + 675*A*a6*k**4 + 1215*A*a6*k**2 + 729*A*a6 + A*omega, 0)]}"
      ]
     },
     "execution_count": 28,
     "metadata": {},
     "output_type": "execute_result"
    }
   ],
   "source": [
    "tt1 = f_subs_R(**tt)\n",
    "tt1"
   ]
  },
  {
   "cell_type": "code",
   "execution_count": 29,
   "metadata": {},
   "outputs": [],
   "source": [
    "r_eqs = tt1[\"r_eqs\"]"
   ]
  },
  {
   "cell_type": "code",
   "execution_count": 30,
   "metadata": {},
   "outputs": [
    {
     "data": {
      "text/plain": [
       "[Eq(-A**3*b - 20160*A*Xi**3*a6, 0),\n",
       " Eq(360*A*Xi**2*a4 + 5400*A*Xi**2*a6*k**2 + 29880*A*Xi**2*a6, 0),\n",
       " Eq(-12*A*Xi*a2 - 72*A*Xi*a4*k**2 - 408*A*Xi*a4 - 900*A*Xi*a6*k**4 - 6120*A*Xi*a6*k**2 - 11172*A*Xi*a6, 0),\n",
       " Eq(-A*a1*k - A*a2*k**2 + 9*A*a2 - 3*A*a4*k**4 + 54*A*a4*k**2 + 81*A*a4 - 35*A*a6*k**6 + 675*A*a6*k**4 + 1215*A*a6*k**2 + 729*A*a6 + A*omega, 0)]"
      ]
     },
     "execution_count": 30,
     "metadata": {},
     "output_type": "execute_result"
    }
   ],
   "source": [
    "r_eqs"
   ]
  },
  {
   "cell_type": "code",
   "execution_count": 121,
   "metadata": {},
   "outputs": [],
   "source": [
    "subs_re_d = f_extract_from_eq_sys_(r_eqs, [ b, a4, Symbol(\"a2\"), omega ], [ 0, 1, 2, 3 ])"
   ]
  },
  {
   "cell_type": "code",
   "execution_count": 122,
   "metadata": {},
   "outputs": [
    {
     "data": {
      "text/plain": [
       "-I*C0*Derivative(y(z), z) - a1*k*y(z) + I*a1*Derivative(y(z), z) - a2*k**2*y(z) + 2*I*a2*k*Derivative(y(z), z) + a2*Derivative(y(z), (z, 2)) + a3*k**3*y(z) - 3*I*a3*k**2*Derivative(y(z), z) - 3*a3*k*Derivative(y(z), (z, 2)) + I*a3*Derivative(y(z), (z, 3)) + a4*k**4*y(z) - 4*I*a4*k**3*Derivative(y(z), z) - 6*a4*k**2*Derivative(y(z), (z, 2)) + 4*I*a4*k*Derivative(y(z), (z, 3)) + a4*Derivative(y(z), (z, 4)) - a5*k**5*y(z) + 5*I*a5*k**4*Derivative(y(z), z) + 10*a5*k**3*Derivative(y(z), (z, 2)) - 10*I*a5*k**2*Derivative(y(z), (z, 3)) - 5*a5*k*Derivative(y(z), (z, 4)) + I*a5*Derivative(y(z), (z, 5)) - a6*k**6*y(z) + 6*I*a6*k**5*Derivative(y(z), z) + 15*a6*k**4*Derivative(y(z), (z, 2)) - 20*I*a6*k**3*Derivative(y(z), (z, 3)) - 15*a6*k**2*Derivative(y(z), (z, 4)) + 6*I*a6*k*Derivative(y(z), (z, 5)) + a6*Derivative(y(z), (z, 6)) - b*y(z)**3 + omega*y(z)"
      ]
     },
     "execution_count": 122,
     "metadata": {},
     "output_type": "execute_result"
    }
   ],
   "source": [
    "tmp2 = tt[\"tmp2\"]\n",
    "target_eq_y = tmp2\n",
    "tmp2"
   ]
  },
  {
   "cell_type": "code",
   "execution_count": 123,
   "metadata": {},
   "outputs": [],
   "source": [
    "subs_d = tt1[\"subs_d\"]\n",
    "target_eq_y_subs = subs_d[y(z)]"
   ]
  },
  {
   "cell_type": "code",
   "execution_count": 124,
   "metadata": {},
   "outputs": [],
   "source": [
    "subs_im_d = tt[\"subs_im_d\"]"
   ]
  },
  {
   "cell_type": "code",
   "execution_count": 125,
   "metadata": {},
   "outputs": [],
   "source": [
    "all_coeff_subs_d = { }\n",
    "all_coeff_subs_d.update(subs_re_d)\n",
    "all_coeff_subs_d.update(subs_im_d)"
   ]
  },
  {
   "cell_type": "code",
   "execution_count": 126,
   "metadata": {},
   "outputs": [],
   "source": [
    "target_eq_y_ = target_eq_y.subs(all_coeff_subs_d).expand().simplify().doit()"
   ]
  },
  {
   "cell_type": "code",
   "execution_count": 127,
   "metadata": {},
   "outputs": [],
   "source": [
    "TMP0 = target_eq_y_.subs({ y(z) : target_eq_y_subs }).doit()"
   ]
  },
  {
   "cell_type": "code",
   "execution_count": 128,
   "metadata": {},
   "outputs": [],
   "source": [
    "TMP1 = TMP0.subs({ R(z) : R_subs_ }).simplify().factor().simplify().doit()"
   ]
  },
  {
   "cell_type": "code",
   "execution_count": 129,
   "metadata": {},
   "outputs": [
    {
     "data": {
      "text/plain": [
       "0"
      ]
     },
     "execution_count": 129,
     "metadata": {},
     "output_type": "execute_result"
    }
   ],
   "source": [
    "TMP1.simplify()"
   ]
  },
  {
   "cell_type": "code",
   "execution_count": 117,
   "metadata": {},
   "outputs": [],
   "source": [
    "\n",
    "def f_line_up_one_param(eq, not_include = [ ]):\n",
    "\t\tf_symb = eq.lhs.free_symbols\n",
    "\t\ta_symb = [ i for i in f_symb if \"a\" == i.name[0] and i not in not_include ]\n",
    "\t\tpass\n",
    "\t\td_ = dict([ [ i, sp.degree(eq, i) ] for i in a_symb ])\n",
    "\t\tline_up_param = min(d_, key = lambda x : d_[x])\n",
    "\t\td_min_ = [ ]\n",
    "\t\tfor key in d_.keys():\n",
    "\t\t\t\tif d_[key] == d_[line_up_param]:\n",
    "\t\t\t\t\t\td_min_.append(key)\n",
    "\t\tline_up_param = min(d_min_, key = lambda x : int(x.name[1:]))\n",
    "\t\treturn { \"f_symb\" : f_symb, \"a_symb\" : a_symb, \"d_\" : d_, \"d_min_\" : d_min_, \"line_up_param\" : line_up_param }\n"
   ]
  },
  {
   "cell_type": "code",
   "execution_count": 118,
   "metadata": {},
   "outputs": [],
   "source": [
    "\n",
    "def f_line_up_params(eqs):\n",
    "\t\tpass\n",
    "\t\tline_up_params_list = [ ]\n",
    "\t\tnew_eqs = eqs[ 1 : -1 ]\n",
    "\t\tfor eq in new_eqs:\n",
    "\t\t\t\ttmp_ = f_line_up_one_param(eq, not_include = line_up_params_list)\n",
    "\t\t\t\tline_up_params_list.append(tmp_[\"line_up_param\"])\n",
    "\t\treturn line_up_params_list\n"
   ]
  },
  {
   "cell_type": "code",
   "execution_count": 119,
   "metadata": {},
   "outputs": [
    {
     "data": {
      "text/plain": [
       "[a4, a2]"
      ]
     },
     "execution_count": 119,
     "metadata": {},
     "output_type": "execute_result"
    }
   ],
   "source": [
    "\n",
    "f_line_up_params(r_eqs)\n",
    "\n"
   ]
  },
  {
   "cell_type": "code",
   "execution_count": 120,
   "metadata": {},
   "outputs": [
    {
     "data": {
      "text/plain": [
       "{'f_symb': {A, a1, a2, a4, a6, k, omega},\n",
       " 'a_symb': [a4, a6, a2, a1],\n",
       " 'd_': {a4: 1, a6: 1, a2: 1, a1: 1},\n",
       " 'd_min_': [a4, a6, a2, a1],\n",
       " 'line_up_param': a1}"
      ]
     },
     "execution_count": 120,
     "metadata": {},
     "output_type": "execute_result"
    }
   ],
   "source": [
    "f_line_up_one_param(r_eqs[3])"
   ]
  },
  {
   "cell_type": "code",
   "execution_count": 71,
   "metadata": {},
   "outputs": [
    {
     "data": {
      "text/plain": [
       "{b: -20160*Xi**3*a6/A**2,\n",
       " a4: -a6*(15*k**2 + 83),\n",
       " a2: a6*(15*k**4 + 498*k**2 + 1891),\n",
       " omega: a1*k + 5*a6*k**6 + 249*a6*k**4 + 1891*a6*k**2 - 11025*a6}"
      ]
     },
     "execution_count": 71,
     "metadata": {},
     "output_type": "execute_result"
    }
   ],
   "source": [
    "subs_re_d"
   ]
  },
  {
   "cell_type": "code",
   "execution_count": null,
   "metadata": {},
   "outputs": [],
   "source": []
  }
 ],
 "metadata": {
  "kernelspec": {
   "display_name": "Python 3",
   "language": "python",
   "name": "python3"
  },
  "language_info": {
   "codemirror_mode": {
    "name": "ipython",
    "version": 3
   },
   "file_extension": ".py",
   "mimetype": "text/x-python",
   "name": "python",
   "nbconvert_exporter": "python",
   "pygments_lexer": "ipython3",
   "version": "3.7.1"
  }
 },
 "nbformat": 4,
 "nbformat_minor": 2
}
